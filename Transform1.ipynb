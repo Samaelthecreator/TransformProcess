{
 "cells": [
  {
   "cell_type": "markdown",
   "metadata": {},
   "source": [
    "Realizaremos el primer proceso de limpieza, teniendo en cuenta los siguientes puntos:\n",
    "\n",
    "A.- Valores nulos\n",
    "\n",
    "B.- Valores duplicados\n",
    "\n",
    "C.- datos faltantes\n",
    "\n",
    "D.- datos no necesarios"
   ]
  },
  {
   "cell_type": "markdown",
   "metadata": {},
   "source": [
    "# Análisis exploratorio\n",
    "\n",
    "El análisis exploratorio nos dará información estructural de los dataframes (tamaño, orden, etc) para poder realizar el primer proceso de limpieza, en donde queden unicamente datos relevantes, para que posteriormente se haga una transformación (reducción)."
   ]
  },
  {
   "cell_type": "code",
   "execution_count": 5,
   "metadata": {},
   "outputs": [],
   "source": [
    "import pandas as pd\n",
    "import re\n",
    "#Importamos 5 cotizaciones para realizar la parte de limpieza.\n",
    "\n",
    "cot1 = pd.read_csv('C:/Users/52473/OneDrive/Documentos/SITEC/Cotizaciones (caratula)/Capa1Extract/2023/Enero/CTQ-787 ELECTROSERVICIOS (DESCARGA Y ARRASTRE DE MAQUINA).csv')\n",
    "cot2 = pd.read_csv('C:/Users/52473/OneDrive/Documentos/SITEC/Cotizaciones (caratula)/Capa1Extract/2023/Febrero/CTQ-844 BUSSMANN (SERVICIO DE SUMINISTRO DE RUEDA).csv')\n",
    "cot3 = pd.read_csv('C:/Users/52473/OneDrive/Documentos/SITEC/Cotizaciones (caratula)/Capa1Extract/2023/Julio/CTQ-952 ZF (EMBALAJE LINEA EP5).csv')\n",
    "cot4 = pd.read_csv('C:/Users/52473/OneDrive/Documentos/SITEC/Cotizaciones (caratula)/Capa1Extract/2023/Septiembre/CTQ-995 PIZZA HUT (SERVICIO DE FABRICACIÓN DE PUERTA PARA ÁREA DEL SITE).csv')\n",
    "cot5 = pd.read_csv('C:/Users/52473/OneDrive/Documentos/SITEC/Cotizaciones (caratula)/Capa1Extract/2023/Noviembre/CTQ-1042 VALEO (SUMINISTRO DE VIDRIO TEMPLADO).csv')"
   ]
  },
  {
   "cell_type": "markdown",
   "metadata": {},
   "source": [
    "Los dataframes provienen de diccionarios, es decir, las columnas: range, majorDimensio, provienen de la funcion de extracción de Google Sheets.\n",
    "\n",
    "La columna importantes es unicamente \"value\", trabajaremos con esa información.\n",
    "\n"
   ]
  },
  {
   "cell_type": "markdown",
   "metadata": {},
   "source": [
    "# Limpieza\n",
    "\n",
    "Eliminaremos valores nulos y la sección de términos y condiciones."
   ]
  },
  {
   "cell_type": "code",
   "execution_count": 34,
   "metadata": {},
   "outputs": [],
   "source": [
    "#Creamos funciones de transformación\n",
    "\n",
    "\n",
    "#Funcion para eliminar valores nulos en este contexto:\n",
    "\n",
    "def dropnull(df):\n",
    "    j=0\n",
    "    while j<len(df):\n",
    "        if '[]' in df['values'][j]:\n",
    "            print(f\"el registro {j} es nulo\")\n",
    "            df=df.drop(index = df.index[j])\n",
    "            df.reset_index(drop = True, inplace = True)\n",
    "            #print(f\"dimension interaccion {n}\")\n",
    "            #print(f\"dimension real: {len(cotizacion1)}\")\n",
    "        else:\n",
    "            #print(f\"registro {j} no nulo\")\n",
    "            #print(f\"dimension real: {len(cotizacion1)}\")\n",
    "            j+=1\n",
    "    return df\n",
    "\n",
    "def dropextrainf(df):\n",
    "    n=0\n",
    "    while n< len(df):\n",
    "        if re.search(\"T[EÉ]RMINOS\",df['values'][n]) != None:    #Añadimos funciones regex\n",
    "            print(f\"A partir del registro {n} tiene los terminos y condiciones\")\n",
    "            df = df.drop(index = df.index[n:])\n",
    "            break\n",
    "        else:\n",
    "            print(f\"La información de este registro {n} es importante\")\n",
    "            n+=1\n",
    "    return df"
   ]
  },
  {
   "cell_type": "code",
   "execution_count": 38,
   "metadata": {},
   "outputs": [
    {
     "name": "stdout",
     "output_type": "stream",
     "text": [
      "La información de este registro 0 es importante\n",
      "La información de este registro 1 es importante\n",
      "La información de este registro 2 es importante\n",
      "La información de este registro 3 es importante\n",
      "La información de este registro 4 es importante\n",
      "La información de este registro 5 es importante\n",
      "La información de este registro 6 es importante\n",
      "La información de este registro 7 es importante\n",
      "La información de este registro 8 es importante\n",
      "La información de este registro 9 es importante\n",
      "La información de este registro 10 es importante\n",
      "La información de este registro 11 es importante\n",
      "La información de este registro 12 es importante\n",
      "La información de este registro 13 es importante\n",
      "La información de este registro 14 es importante\n",
      "A partir del registro 15 tiene los terminos y condiciones\n",
      "el registro 0 es nulo\n",
      "el registro 0 es nulo\n",
      "el registro 0 es nulo\n",
      "el registro 0 es nulo\n",
      "el registro 6 es nulo\n",
      "el registro 9 es nulo\n",
      "              range majorDimension  \\\n",
      "0  CARATULA!A1:H150           ROWS   \n",
      "1  CARATULA!A1:H150           ROWS   \n",
      "2  CARATULA!A1:H150           ROWS   \n",
      "3  CARATULA!A1:H150           ROWS   \n",
      "4  CARATULA!A1:H150           ROWS   \n",
      "5  CARATULA!A1:H150           ROWS   \n",
      "6  CARATULA!A1:H150           ROWS   \n",
      "7  CARATULA!A1:H150           ROWS   \n",
      "8  CARATULA!A1:H150           ROWS   \n",
      "\n",
      "                                              values  \n",
      "0  ['', 'PROYECTO :  SERVICIO DE SUMINISTRO DE RU...  \n",
      "1  ['', '', '', '', '', '               FOLIO: CT...  \n",
      "2  ['', 'UBICACIÓN:  BUSSMANN', '', '', '', '    ...  \n",
      "3  ['', 'CONTACTO: MIGUEL SALCEDO', '', '', '', '...  \n",
      "4  ['', 'DOMICILIO:INFINITO #210, UNIVERSO 2000, ...  \n",
      "5  ['', 'CLAVE', 'DESCRIPCION / PARTIDA O CONCEPT...  \n",
      "6  ['', '1', 'Servicio de suministro de rueda 14 ...  \n",
      "7  ['', '2', 'Servicio de suministro de rueda 16 ...  \n",
      "8  ['', 'COSTO TOTAL ', '', '', '', '', ' $ 3,380...  \n"
     ]
    }
   ],
   "source": [
    "print(dropnull(dropextrainf(cot2)))     #No importa el orden de la composición de funciones."
   ]
  },
  {
   "cell_type": "markdown",
   "metadata": {},
   "source": [
    "# Extracción\n",
    "\n",
    "extraemos los campos importantes y creamos un tablas a partir de la extracción."
   ]
  },
  {
   "cell_type": "markdown",
   "metadata": {},
   "source": [
    "Los conceptos a extrar serán:\n",
    "\n",
    "PORYECTO:\n",
    "FOLIO:\n",
    "UBICACIÓN:\n",
    "CONTACTO:\n",
    "\n",
    "clave, descripción/partida , unidad, cantidad, P.U, cantidad\n",
    "\n",
    "COSTO TOTAL:\n",
    "\n",
    "\n",
    "Los campos en mayusculas son conceptos simples, es decir, tiene un unico dato/valor.\n",
    "\n",
    "Los campos que estan en minusculas consecutivamente son valores que por simplicidad podemos hacer una tabla propiamente, ya que en el documento excel estan presentados en tablas y su orden hará mas fácil la extracción."
   ]
  },
  {
   "cell_type": "code",
   "execution_count": null,
   "metadata": {},
   "outputs": [],
   "source": [
    "cleanfile = dropnull(dropextrainf(cot2))"
   ]
  },
  {
   "cell_type": "code",
   "execution_count": 60,
   "metadata": {},
   "outputs": [
    {
     "name": "stdout",
     "output_type": "stream",
     "text": [
      "['', 'PROYECTO :  SERVICIO DE SUMINISTRO DE RUEDA', '', '', '', '', '           No de formato: QSS-020']\n",
      "<re.Match object; span=(6, 16), match='PROYECTO :'>\n",
      "[\"['', '\", \"  SERVICIO DE SUMINISTRO DE RUEDA', '', '', '', '', '           No de formato: QSS-020']\"]\n",
      "['PROYECTO']\n"
     ]
    }
   ],
   "source": [
    "#PExraemos los conceptos simples\n",
    "\n",
    "print(cleanfile['values'][0])\n",
    "print(re.search('PROYECTO :', cleanfile['values'][0]))\n",
    "print(re.split('PROYECTO :',cleanfile['values'][0],maxsplit=1))\n",
    "\n",
    "\n",
    "\n",
    "print(re.findall('PROYECTO', cleanfile['values'][0]))\n",
    "\n",
    "\n"
   ]
  },
  {
   "cell_type": "code",
   "execution_count": 46,
   "metadata": {},
   "outputs": [
    {
     "data": {
      "text/plain": [
       "str"
      ]
     },
     "execution_count": 46,
     "metadata": {},
     "output_type": "execute_result"
    }
   ],
   "source": [
    "type(cleanfile['values'][0])"
   ]
  },
  {
   "cell_type": "code",
   "execution_count": null,
   "metadata": {},
   "outputs": [],
   "source": []
  }
 ],
 "metadata": {
  "kernelspec": {
   "display_name": "base",
   "language": "python",
   "name": "python3"
  },
  "language_info": {
   "codemirror_mode": {
    "name": "ipython",
    "version": 3
   },
   "file_extension": ".py",
   "mimetype": "text/x-python",
   "name": "python",
   "nbconvert_exporter": "python",
   "pygments_lexer": "ipython3",
   "version": "3.9.13"
  }
 },
 "nbformat": 4,
 "nbformat_minor": 2
}
