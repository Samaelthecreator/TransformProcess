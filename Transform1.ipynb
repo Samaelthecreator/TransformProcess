{
 "cells": [
  {
   "cell_type": "markdown",
   "metadata": {},
   "source": [
    "Realizaremos el primer proceso de limpieza, teniendo en cuenta los siguientes puntos:\n",
    "\n",
    "A.- Valores nulos\n",
    "\n",
    "B.- Valores duplicados\n",
    "\n",
    "C.- datos faltantes\n",
    "\n",
    "D.- datos no necesarios"
   ]
  },
  {
   "cell_type": "markdown",
   "metadata": {},
   "source": [
    "# Análisis exploratorio\n",
    "\n",
    "El análisis exploratorio nos dará información estructural de los dataframes (tamaño, orden, etc) para poder realizar el primer proceso de limpieza, en donde queden unicamente datos relevantes, para que posteriormente se haga una transformación (reducción)."
   ]
  },
  {
   "cell_type": "code",
   "execution_count": 1,
   "metadata": {},
   "outputs": [],
   "source": [
    "import pandas as pd\n",
    "import re\n",
    "import numpy as np\n",
    "#Importamos 5 cotizaciones para realizar la parte de limpieza.\n",
    "\n",
    "cot1 = pd.read_csv('C:/Users/52473/OneDrive/Documentos/SITEC/Cotizaciones (caratula)/Capa1Extract/2023/Enero/CTQ-787 ELECTROSERVICIOS (DESCARGA Y ARRASTRE DE MAQUINA).csv')\n",
    "cot2 = pd.read_csv('C:/Users/52473/OneDrive/Documentos/SITEC/Cotizaciones (caratula)/Capa1Extract/2023/Febrero/CTQ-844 BUSSMANN (SERVICIO DE SUMINISTRO DE RUEDA).csv')\n",
    "cot3 = pd.read_csv('C:/Users/52473/OneDrive/Documentos/SITEC/Cotizaciones (caratula)/Capa1Extract/2023/Julio/CTQ-952 ZF (EMBALAJE LINEA EP5).csv')\n",
    "cot4 = pd.read_csv('C:/Users/52473/OneDrive/Documentos/SITEC/Cotizaciones (caratula)/Capa1Extract/2023/Septiembre/CTQ-995 PIZZA HUT (SERVICIO DE FABRICACIÓN DE PUERTA PARA ÁREA DEL SITE).csv')\n",
    "cot5 = pd.read_csv('C:/Users/52473/OneDrive/Documentos/SITEC/Cotizaciones (caratula)/Capa1Extract/2023/Noviembre/CTQ-1042 VALEO (SUMINISTRO DE VIDRIO TEMPLADO).csv')"
   ]
  },
  {
   "cell_type": "markdown",
   "metadata": {},
   "source": [
    "Los dataframes provienen de diccionarios, es decir, las columnas: range, majorDimensio, provienen de la funcion de extracción de Google Sheets.\n",
    "\n",
    "La columna importantes es unicamente \"value\", trabajaremos con esa información.\n",
    "\n"
   ]
  },
  {
   "cell_type": "markdown",
   "metadata": {},
   "source": [
    "# Limpieza\n",
    "\n",
    "Eliminaremos valores nulos y la sección de términos y condiciones."
   ]
  },
  {
   "cell_type": "code",
   "execution_count": 2,
   "metadata": {},
   "outputs": [],
   "source": [
    "#Creamos funciones de transformación\n",
    "\n",
    "\n",
    "#Funcion para eliminar valores nulos en este contexto:\n",
    "\n",
    "def dropnull(df):\n",
    "    j=0\n",
    "    while j<len(df):\n",
    "        if '[]' in df['values'][j]:\n",
    "            #print(f\"el registro {j} es nulo\")\n",
    "            df=df.drop(index = df.index[j])\n",
    "            df.reset_index(drop = True, inplace = True)\n",
    "            #print(f\"dimension interaccion {n}\")\n",
    "            #print(f\"dimension real: {len(cotizacion1)}\")\n",
    "        else:\n",
    "            #print(f\"registro {j} no nulo\")\n",
    "            #print(f\"dimension real: {len(cotizacion1)}\")\n",
    "            j+=1\n",
    "    return df\n",
    "\n",
    "def dropextrainf(df):\n",
    "    n=0\n",
    "    while n< len(df):\n",
    "        if re.search(\"T[EÉ]RMINOS\",df['values'][n]) != None:    #Añadimos funciones regex\n",
    "            #print(f\"A partir del registro {n} tiene los terminos y condiciones\")\n",
    "            df = df.drop(index = df.index[n:])\n",
    "            break\n",
    "        else:\n",
    "            #print(f\"La información de este registro {n} es importante\")\n",
    "            n+=1\n",
    "    return df"
   ]
  },
  {
   "cell_type": "code",
   "execution_count": 67,
   "metadata": {},
   "outputs": [],
   "source": [
    "#funcion general de limpieza\n",
    "#print(dropnull(dropextrainf(cot2)))     #No importa el orden de la composición de funciones.\n",
    "\n",
    "def limpieza1(df): return dropnull(dropextrainf(df))"
   ]
  },
  {
   "cell_type": "markdown",
   "metadata": {},
   "source": [
    "# TRANSFORMACIÓN \n",
    "\n"
   ]
  },
  {
   "cell_type": "markdown",
   "metadata": {},
   "source": [
    "Los datos extraidos los trabajaremos como CSV´s. La estructura de la columna values de los dataframes, son cadenas de caracteres que representen toda una fila del documento en formato CSV."
   ]
  },
  {
   "cell_type": "code",
   "execution_count": 68,
   "metadata": {},
   "outputs": [],
   "source": [
    "#Creamos un dataframe donde las columnas serán las filas del archivo y las filas los elementos separados por comas.\n",
    " \n",
    "#Los valores faltantes para el tamaño del dataframe lo rellenamos con valores nulos\n",
    "def filetodataframe(cleanfile):\n",
    "    separaciones = [len(re.split(',',cleanfile['values'][filas])) for filas in range(len(cleanfile))]   \n",
    "    df = pd.DataFrame(np.zeros((max(separaciones),len(cleanfile))))\n",
    "    #print(separaciones)\n",
    "    #print(f\" el dataframe EES: {df}\")\n",
    "    for j in range(len(cleanfile)):    \n",
    "        #print(f\"Seguimos con la fila {j}\")\n",
    "        fila = re.split(',',cleanfile['values'][j])\n",
    "        fila.extend(np.full((len(df)-len(fila)),''))\n",
    "        df[j] = fila\n",
    "        #print(f\"el tamano de la lista a incorporar es: {len(fila)} y la longitud del dataframe es: {len(df)}, tienen que empatar\")\n",
    "    return df\n",
    "\n",
    "#Al agregar los ceros, convertimos un dataframe que tiene registros tipo str y tipo entero, hay que tener cuidado\n",
    "#cambiamos la funcion np.zeros por np.full((ejex,ejey,ejez), valor_en_cada_registro_de_toda_la_estructura)\n"
   ]
  },
  {
   "cell_type": "markdown",
   "metadata": {},
   "source": [
    "# Limpieza de registros\n"
   ]
  },
  {
   "cell_type": "markdown",
   "metadata": {},
   "source": [
    "Los registros presentan corchetes, comillas, dobles comillas y espacios que vamos a requerir de quitar y dejar unicamente las palabras importantes para que el motor de busqueda detecte coincidencias y extraiga lo necesario"
   ]
  },
  {
   "cell_type": "code",
   "execution_count": 70,
   "metadata": {},
   "outputs": [],
   "source": [
    "#Limpieza de registros: \n",
    "def cleanregister(dataframe):\n",
    "    carex = r'[\\[\\'\\\"\\]\\:]'\n",
    "    #s = registro.replace(' ','')\n",
    "    #print(f\"el registro: {registro} , registro limpio: {re.sub(carex,'',s)}\")\n",
    "    df = pd.DataFrame(np.full((len(dataframe),len(dataframe.columns)),''))\n",
    "    for columnas in range(len(dataframe.columns)):\n",
    "        for filas in range(len(dataframe)):\n",
    "            #print(f\"fila: {a} , columna: {b}\")\n",
    "            df.iloc[filas,columnas] = re.sub(carex,'',dataframe.iloc[filas,columnas].strip())\n",
    "            #dfclean.iloc[a,b] = df.iloc[a,b]  \n",
    "    return df\n"
   ]
  },
  {
   "cell_type": "markdown",
   "metadata": {},
   "source": [
    "# Extracción\n",
    "\n",
    "extraemos los campos importantes y creamos un tablas a partir de la extracción."
   ]
  },
  {
   "cell_type": "markdown",
   "metadata": {},
   "source": [
    "Los conceptos a extrar serán:\n",
    "\n",
    "PORYECTO:\n",
    "FOLIO:\n",
    "UBICACIÓN:\n",
    "CONTACTO:\n",
    "\n",
    "clave, descripción/partida , unidad, cantidad, P.U, cantidad\n",
    "\n",
    "COSTO TOTAL:\n",
    "\n",
    "\n",
    "Los campos en mayusculas son conceptos simples, es decir, tiene un unico dato/valor.\n",
    "\n",
    "Los campos que estan en minusculas consecutivamente son valores que por simplicidad podemos hacer una tabla propiamente, ya que en el documento excel estan presentados en tablas y su orden hará mas fácil la extracción.\n",
    "\n",
    "\n",
    "\n",
    "La tabla de cotizaciones tendra la siguiente forma:\n",
    "\n",
    "folio, fecha_cotizacion, proyecto, ubicación, contacto, estado, costo_total.\n",
    "\n",
    "Crearemos otra tabla llamada proyectos, ligada a la tabla cotizaciones:\n",
    "\n",
    "folio_cotización, n_partidas, cantidad/valor_por_partida, costo_total, descripción."
   ]
  },
  {
   "cell_type": "code",
   "execution_count": 71,
   "metadata": {},
   "outputs": [],
   "source": [
    "#BUSQUEDA\n",
    "def busqueda(dataframe):\n",
    "    metdata_cot = ['FOLIO','PROYECTO', 'CONTACTO' ,'UBICACI[OÓ]N', 'FECHA' , 'UNE' , 'COSTO TOTAL' ]  #palabras a buscar\n",
    "    coordenadas = np.empty((len(metdata_cot),5),dtype= object)              \n",
    "    for palabra in range(len(metdata_cot)):\n",
    "        for columnas in range(len(dataframe.columns)):\n",
    "            for fila in range(len(dataframe) ):\n",
    "                if re.search(metdata_cot[palabra], dataframe.iloc[fila,columnas]) != None:\n",
    "                    #guardamos la palabra y su coordenada de término de la palabra\n",
    "                    coordenadas[palabra] = [metdata_cot[palabra],\n",
    "                                            fila,\n",
    "                                            columnas,\n",
    "                                            re.search(metdata_cot[palabra],dataframe.iloc[fila,columnas]).start(),\n",
    "                                            re.search(metdata_cot[palabra],dataframe.iloc[fila,columnas]).end()]\n",
    "                    dataf = pd.DataFrame(coordenadas, columns= ['palabra', 'fila_df' , 'columna_df' , 'c_inicio' , 'c_fin' ])\n",
    "    \n",
    "    return dataf\n",
    "     \n",
    "            \n",
    "  #cambiamos la definicion de coordenadas de: np.full((len(metdata_cot),5),'') a lista = np.empty((3, 5), dtype=object) , ya que al definir la lista como la \n",
    "  #primer opcion, al querer asignar cadenas a estos elementos, como se definió que sus valores fueran vacios en np.full ('') asume que la longitud de los caracteres\n",
    "  # de los elementoe es de unidad 1, por eso cuando se quiere añadir una cadena de caracteres, solo toma la primera letra"
   ]
  },
  {
   "cell_type": "code",
   "execution_count": 98,
   "metadata": {},
   "outputs": [],
   "source": [
    "#EXTRACCIÓN:\n",
    "\n",
    "#El campo costo total y el valor van por separados, dentro de la misma columna, pero a diferencia de los otros\n",
    "#campos, este no va junto con su valor, por lo que tenemos que tratarlo aparte\n",
    "\n",
    "\n",
    "def ext(dataframe, cordinates):\n",
    "#definimos el paquete (esquema) para ordenar\n",
    "    f = np.empty((len(cordinates),1),dtype = object)  \n",
    "    for fila in range(len(cordinates)):\n",
    "            if fila < 6: \n",
    "                f[fila] = [dataframe.iloc[cordinates['fila_df'][fila],cordinates['columna_df'][fila]][cordinates['c_fin'][fila]:]]    \n",
    "                #print(f)\n",
    "    else:\n",
    "            for n in range(6,len(dataframe),1):\n",
    "                if re.search('\\$',dataframe.iloc[n,len(dataframe.columns)-1]) != None: \n",
    "                    #print(dfclean.iloc[n,33])\n",
    "                    #print(dfclean.iloc[n,33][2:] + dfclean.iloc[n+1,33][0:]) \n",
    "                    f[fila] = [dataframe.iloc[n,len(dataframe.columns)-1][2:] + dataframe.iloc[n+1,len(dataframe.columns)-1][0:]] \n",
    "    return list(f)\n",
    "\n",
    "\n"
   ]
  },
  {
   "cell_type": "markdown",
   "metadata": {},
   "source": [
    "#Extracción de lote de 5:\n",
    "\n",
    "Las funciones creadas son:\n",
    "\n",
    "1.- limpieza1(dataframe)\n",
    "\n",
    "2.-filetodata(dataframe)\n",
    "\n",
    "3.-cleanregister(dataframe)\n",
    "\n",
    "4.- busqueda(dataframe) output: coordinates\n",
    "\n",
    "5.- extraccion(dataframe, coordinates)"
   ]
  },
  {
   "cell_type": "code",
   "execution_count": 100,
   "metadata": {},
   "outputs": [],
   "source": [
    "#Realizamos el proceso de extracción para estas 5 cotizaciones\n",
    "\n",
    "def extract(dataframe):\n",
    "    a = limpieza1(dataframe)\n",
    "    #print(f\"proceso eliminación valores vacios y términos y condiciones.\")\n",
    "    b = filetodataframe(a)\n",
    "    #print(\"proceso de transformación a dataframe realizado con éxito.\")\n",
    "    c = cleanregister(b)\n",
    "    #print(\"proceso de limpieza de registros realizado con éxito.\")\n",
    "    d = busqueda(c)\n",
    "    #print(\"proceso de busqueda de patrones realizada con éxito\")\n",
    "    e = ext(c,d)\n",
    "    #print(\"proceso de extracción realizado con éxito\")\n",
    "    return e\n",
    "    \n",
    "    "
   ]
  },
  {
   "cell_type": "code",
   "execution_count": 102,
   "metadata": {},
   "outputs": [
    {
     "name": "stderr",
     "output_type": "stream",
     "text": [
      "C:\\Users\\52473\\AppData\\Local\\Temp\\ipykernel_9028\\270240923.py:15: FutureWarning: The frame.append method is deprecated and will be removed from pandas in a future version. Use pandas.concat instead.\n",
      "  cotizaciones = cotizaciones.append(pd.Series(f, index=cotizaciones.columns), ignore_index=True)\n",
      "C:\\Users\\52473\\AppData\\Local\\Temp\\ipykernel_9028\\270240923.py:15: FutureWarning: The frame.append method is deprecated and will be removed from pandas in a future version. Use pandas.concat instead.\n",
      "  cotizaciones = cotizaciones.append(pd.Series(f, index=cotizaciones.columns), ignore_index=True)\n",
      "C:\\Users\\52473\\AppData\\Local\\Temp\\ipykernel_9028\\270240923.py:15: FutureWarning: The frame.append method is deprecated and will be removed from pandas in a future version. Use pandas.concat instead.\n",
      "  cotizaciones = cotizaciones.append(pd.Series(f, index=cotizaciones.columns), ignore_index=True)\n",
      "C:\\Users\\52473\\AppData\\Local\\Temp\\ipykernel_9028\\270240923.py:15: FutureWarning: The frame.append method is deprecated and will be removed from pandas in a future version. Use pandas.concat instead.\n",
      "  cotizaciones = cotizaciones.append(pd.Series(f, index=cotizaciones.columns), ignore_index=True)\n",
      "C:\\Users\\52473\\AppData\\Local\\Temp\\ipykernel_9028\\270240923.py:15: FutureWarning: The frame.append method is deprecated and will be removed from pandas in a future version. Use pandas.concat instead.\n",
      "  cotizaciones = cotizaciones.append(pd.Series(f, index=cotizaciones.columns), ignore_index=True)\n"
     ]
    },
    {
     "data": {
      "text/html": [
       "<div>\n",
       "<style scoped>\n",
       "    .dataframe tbody tr th:only-of-type {\n",
       "        vertical-align: middle;\n",
       "    }\n",
       "\n",
       "    .dataframe tbody tr th {\n",
       "        vertical-align: top;\n",
       "    }\n",
       "\n",
       "    .dataframe thead th {\n",
       "        text-align: right;\n",
       "    }\n",
       "</style>\n",
       "<table border=\"1\" class=\"dataframe\">\n",
       "  <thead>\n",
       "    <tr style=\"text-align: right;\">\n",
       "      <th></th>\n",
       "      <th>folio</th>\n",
       "      <th>proyecto</th>\n",
       "      <th>contacto</th>\n",
       "      <th>ubicacion</th>\n",
       "      <th>fecha</th>\n",
       "      <th>une</th>\n",
       "      <th>costo total</th>\n",
       "    </tr>\n",
       "  </thead>\n",
       "  <tbody>\n",
       "    <tr>\n",
       "      <th>0</th>\n",
       "      <td>[ CTQ-000787]</td>\n",
       "      <td>[ SERVICIO DE DESCARGA Y ARRASTRE DE MAQUINA]</td>\n",
       "      <td>[  BENITO ZAMORA / ELECTROSERVICIOS ]</td>\n",
       "      <td>[ PLANTA TOPRE]</td>\n",
       "      <td>[ 03/01/2023]</td>\n",
       "      <td>[ QUERETARO.]</td>\n",
       "      <td>[ 74467.000 ]</td>\n",
       "    </tr>\n",
       "    <tr>\n",
       "      <th>1</th>\n",
       "      <td>[ CTQ-000844]</td>\n",
       "      <td>[   SERVICIO DE SUMINISTRO DE RUEDA]</td>\n",
       "      <td>[ MIGUEL SALCEDO]</td>\n",
       "      <td>[  BUSSMANN]</td>\n",
       "      <td>[    21/02/023]</td>\n",
       "      <td>[ QUERETARO]</td>\n",
       "      <td>[ 3380.00 ]</td>\n",
       "    </tr>\n",
       "    <tr>\n",
       "      <th>2</th>\n",
       "      <td>[ CTQ-000952]</td>\n",
       "      <td>[ EMBALAJE LINEA EP5]</td>\n",
       "      <td>[  ANA GUTIERREZ]</td>\n",
       "      <td>[ PLANTA ZF DIRECCIONES ]</td>\n",
       "      <td>[ 11/07/2023]</td>\n",
       "      <td>[ QUERETARO]</td>\n",
       "      <td>[ 481000.000 ]</td>\n",
       "    </tr>\n",
       "    <tr>\n",
       "      <th>3</th>\n",
       "      <td>[ CTQ-000995]</td>\n",
       "      <td>[   SERVICIO DE FABRICACIÓN DE PUERTA PARA ÁRE...</td>\n",
       "      <td>[  PAULO SOLIS]</td>\n",
       "      <td>[   PIZZA HUT]</td>\n",
       "      <td>[    20/09/2023]</td>\n",
       "      <td>[ QUERETARO]</td>\n",
       "      <td>[ 33000.00 ]</td>\n",
       "    </tr>\n",
       "    <tr>\n",
       "      <th>4</th>\n",
       "      <td>[ CTQ-001042]</td>\n",
       "      <td>[     SUMINISTRO DE VIDRIO TEMPLADO]</td>\n",
       "      <td>[     ANTONIO GOMEZ]</td>\n",
       "      <td>[      VALEO KAPEC]</td>\n",
       "      <td>[   09/11/2023]</td>\n",
       "      <td>[ QUERÉTARO.]</td>\n",
       "      <td>[ 18000.00 ]</td>\n",
       "    </tr>\n",
       "  </tbody>\n",
       "</table>\n",
       "</div>"
      ],
      "text/plain": [
       "           folio                                           proyecto  \\\n",
       "0  [ CTQ-000787]      [ SERVICIO DE DESCARGA Y ARRASTRE DE MAQUINA]   \n",
       "1  [ CTQ-000844]               [   SERVICIO DE SUMINISTRO DE RUEDA]   \n",
       "2  [ CTQ-000952]                              [ EMBALAJE LINEA EP5]   \n",
       "3  [ CTQ-000995]  [   SERVICIO DE FABRICACIÓN DE PUERTA PARA ÁRE...   \n",
       "4  [ CTQ-001042]               [     SUMINISTRO DE VIDRIO TEMPLADO]   \n",
       "\n",
       "                                contacto                  ubicacion  \\\n",
       "0  [  BENITO ZAMORA / ELECTROSERVICIOS ]            [ PLANTA TOPRE]   \n",
       "1                      [ MIGUEL SALCEDO]               [  BUSSMANN]   \n",
       "2                      [  ANA GUTIERREZ]  [ PLANTA ZF DIRECCIONES ]   \n",
       "3                        [  PAULO SOLIS]             [   PIZZA HUT]   \n",
       "4                   [     ANTONIO GOMEZ]        [      VALEO KAPEC]   \n",
       "\n",
       "              fecha            une     costo total  \n",
       "0     [ 03/01/2023]  [ QUERETARO.]   [ 74467.000 ]  \n",
       "1   [    21/02/023]   [ QUERETARO]     [ 3380.00 ]  \n",
       "2     [ 11/07/2023]   [ QUERETARO]  [ 481000.000 ]  \n",
       "3  [    20/09/2023]   [ QUERETARO]    [ 33000.00 ]  \n",
       "4   [   09/11/2023]  [ QUERÉTARO.]    [ 18000.00 ]  "
      ]
     },
     "execution_count": 102,
     "metadata": {},
     "output_type": "execute_result"
    }
   ],
   "source": [
    "#Definimos la tabla de los metadatos:\n",
    "# folio, proyecto, contacto, ubicacion, fecha, une, costo total\n",
    "\n",
    "cotizaciones = pd.DataFrame(columns= ['folio','proyecto','contacto','ubicacion','fecha','une','costo total'])\n",
    "\n",
    "\n",
    "cots = [cot1,cot2,cot3,cot4,cot5]\n",
    "\n",
    "#cots = {nombre_cotizacion : cotizacion for nombre_cotizacion,cotizacion in zip(,)}\n",
    "\n",
    "\n",
    "for cot in cots:\n",
    "    f = extract(cot)\n",
    "    #print(f\"transformado: {f}\")\n",
    "    cotizaciones = cotizaciones.append(pd.Series(f, index=cotizaciones.columns), ignore_index=True)\n",
    "\n",
    "\n",
    "cotizaciones"
   ]
  },
  {
   "cell_type": "code",
   "execution_count": 93,
   "metadata": {},
   "outputs": [],
   "source": [
    "#AREA PRUEBA\n",
    "\n",
    "\n"
   ]
  }
 ],
 "metadata": {
  "kernelspec": {
   "display_name": "base",
   "language": "python",
   "name": "python3"
  },
  "language_info": {
   "codemirror_mode": {
    "name": "ipython",
    "version": 3
   },
   "file_extension": ".py",
   "mimetype": "text/x-python",
   "name": "python",
   "nbconvert_exporter": "python",
   "pygments_lexer": "ipython3",
   "version": "3.9.13"
  }
 },
 "nbformat": 4,
 "nbformat_minor": 2
}
