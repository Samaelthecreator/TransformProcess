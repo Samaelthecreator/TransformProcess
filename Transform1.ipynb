{
 "cells": [
  {
   "cell_type": "markdown",
   "metadata": {},
   "source": [
    "Realizaremos el primer proceso de limpieza, teniendo en cuenta los siguientes puntos:\n",
    "\n",
    "A.- Valores nulos\n",
    "\n",
    "B.- Valores duplicados\n",
    "\n",
    "C.- datos faltantes\n",
    "\n",
    "D.- datos no necesarios"
   ]
  },
  {
   "cell_type": "markdown",
   "metadata": {},
   "source": [
    "# Análisis exploratorio\n",
    "\n",
    "El análisis exploratorio nos dará información estructural de los dataframes (tamaño, orden, etc) para poder realizar el primer proceso de limpieza, en donde queden unicamente datos relevantes, para que posteriormente se haga una transformación (reducción)."
   ]
  },
  {
   "cell_type": "code",
   "execution_count": 15,
   "metadata": {},
   "outputs": [],
   "source": [
    "import pandas as pd\n",
    "import re\n",
    "import numpy as np\n",
    "#Importamos 5 cotizaciones para realizar la parte de limpieza.\n",
    "\n",
    "cot1 = pd.read_csv('C:/Users/52473/OneDrive/Documentos/SITEC/Cotizaciones (caratula)/Capa1Extract/2023/Enero/CTQ-787 ELECTROSERVICIOS (DESCARGA Y ARRASTRE DE MAQUINA).csv')\n",
    "cot2 = pd.read_csv('C:/Users/52473/OneDrive/Documentos/SITEC/Cotizaciones (caratula)/Capa1Extract/2023/Febrero/CTQ-844 BUSSMANN (SERVICIO DE SUMINISTRO DE RUEDA).csv')\n",
    "cot3 = pd.read_csv('C:/Users/52473/OneDrive/Documentos/SITEC/Cotizaciones (caratula)/Capa1Extract/2023/Julio/CTQ-952 ZF (EMBALAJE LINEA EP5).csv')\n",
    "cot4 = pd.read_csv('C:/Users/52473/OneDrive/Documentos/SITEC/Cotizaciones (caratula)/Capa1Extract/2023/Septiembre/CTQ-995 PIZZA HUT (SERVICIO DE FABRICACIÓN DE PUERTA PARA ÁREA DEL SITE).csv')\n",
    "cot5 = pd.read_csv('C:/Users/52473/OneDrive/Documentos/SITEC/Cotizaciones (caratula)/Capa1Extract/2023/Noviembre/CTQ-1042 VALEO (SUMINISTRO DE VIDRIO TEMPLADO).csv')"
   ]
  },
  {
   "cell_type": "markdown",
   "metadata": {},
   "source": [
    "Los dataframes provienen de diccionarios, es decir, las columnas: range, majorDimensio, provienen de la funcion de extracción de Google Sheets.\n",
    "\n",
    "La columna importantes es unicamente \"value\", trabajaremos con esa información.\n",
    "\n"
   ]
  },
  {
   "cell_type": "markdown",
   "metadata": {},
   "source": [
    "# Limpieza\n",
    "\n",
    "Eliminaremos valores nulos y la sección de términos y condiciones."
   ]
  },
  {
   "cell_type": "code",
   "execution_count": 16,
   "metadata": {},
   "outputs": [],
   "source": [
    "#Creamos funciones de transformación\n",
    "\n",
    "\n",
    "#Funcion para eliminar valores nulos en este contexto:\n",
    "\n",
    "def dropnull(df):\n",
    "    j=0\n",
    "    while j<len(df):\n",
    "        if '[]' in df['values'][j]:\n",
    "            #print(f\"el registro {j} es nulo\")\n",
    "            df=df.drop(index = df.index[j])\n",
    "            df.reset_index(drop = True, inplace = True)\n",
    "            #print(f\"dimension interaccion {n}\")\n",
    "            #print(f\"dimension real: {len(cotizacion1)}\")\n",
    "        else:\n",
    "            #print(f\"registro {j} no nulo\")\n",
    "            #print(f\"dimension real: {len(cotizacion1)}\")\n",
    "            j+=1\n",
    "    return df\n",
    "\n",
    "def dropextrainf(df):\n",
    "    n=0\n",
    "    while n< len(df):\n",
    "        if re.search(\"T[EÉ]RMINOS\",df['values'][n]) != None:    #Añadimos funciones regex\n",
    "            #print(f\"A partir del registro {n} tiene los terminos y condiciones\")\n",
    "            df = df.drop(index = df.index[n:])\n",
    "            break\n",
    "        else:\n",
    "            #print(f\"La información de este registro {n} es importante\")\n",
    "            n+=1\n",
    "    return df"
   ]
  },
  {
   "cell_type": "code",
   "execution_count": null,
   "metadata": {},
   "outputs": [],
   "source": [
    "#funcion general de limpieza\n",
    "print(dropnull(dropextrainf(cot2)))     #No importa el orden de la composición de funciones.\n",
    "\n",
    "def limpieza1(df): return dropnull(dropextrainf(df))"
   ]
  },
  {
   "cell_type": "markdown",
   "metadata": {},
   "source": [
    "# TRANSFORMACIÓN \n",
    "\n"
   ]
  },
  {
   "cell_type": "markdown",
   "metadata": {},
   "source": [
    "Los datos extraidos los trabajaremos como CSV´s. La estructura de la columna values de los dataframes, son cadenas de caracteres que representen toda una fila del documento en formato CSV."
   ]
  },
  {
   "cell_type": "code",
   "execution_count": 18,
   "metadata": {},
   "outputs": [],
   "source": [
    "#Creamos un dataframe donde las columnas serán las filas del archivo y las filas los elementos separados por comas.\n",
    " \n",
    "#Los valores faltantes para el tamaño del dataframe lo rellenamos con valores nulos\n",
    "def filetodataframe(cleanfile):\n",
    "    separaciones = [len(re.split(',',cleanfile['values'][filas])) for filas in range(len(cleanfile))]   \n",
    "    df = pd.DataFrame(np.zeros((max(separaciones),len(cleanfile))))\n",
    "    #print(separaciones)\n",
    "    #print(f\" el dataframe EES: {df}\")\n",
    "    for j in range(len(cleanfile)):    \n",
    "        #print(f\"Seguimos con la fila {j}\")\n",
    "        fila = re.split(',',cleanfile['values'][j])\n",
    "        fila.extend(np.full((len(df)-len(fila)),''))\n",
    "        df[j] = fila\n",
    "        #print(f\"el tamano de la lista a incorporar es: {len(fila)} y la longitud del dataframe es: {len(df)}, tienen que empatar\")\n",
    "    return df\n",
    "\n",
    "#Al agregar los ceros, convertimos un dataframe que tiene registros tipo str y tipo entero, hay que tener cuidado\n",
    "#cambiamos la funcion np.zeros por np.full((ejex,ejey,ejez), valor_en_cada_registro_de_toda_la_estructura)\n"
   ]
  },
  {
   "cell_type": "code",
   "execution_count": 19,
   "metadata": {},
   "outputs": [],
   "source": [
    "cleancot3 = limpieza1(cot3)"
   ]
  },
  {
   "cell_type": "code",
   "execution_count": 20,
   "metadata": {},
   "outputs": [],
   "source": [
    "df = filetodataframe(cleancot3)\n"
   ]
  },
  {
   "cell_type": "code",
   "execution_count": null,
   "metadata": {},
   "outputs": [],
   "source": [
    "df "
   ]
  },
  {
   "cell_type": "markdown",
   "metadata": {},
   "source": [
    "# Limpieza de registros\n"
   ]
  },
  {
   "cell_type": "markdown",
   "metadata": {},
   "source": [
    "Los registros presentan corchetes, comillas, dobles comillas y espacios que vamos a requerir de quitar y dejar unicamente las palabras importantes para que el motor de busqueda detecte coincidencias y extraiga lo necesario"
   ]
  },
  {
   "cell_type": "code",
   "execution_count": 22,
   "metadata": {},
   "outputs": [],
   "source": [
    "#Limpieza de registros: \n",
    "def cleanregister(dataframe):\n",
    "    carex = r'[\\[\\'\\\"\\]]'\n",
    "    #s = registro.replace(' ','')\n",
    "    #print(f\"el registro: {registro} , registro limpio: {re.sub(carex,'',s)}\")\n",
    "    df = pd.DataFrame(np.full((len(dataframe),len(dataframe.columns)),''))\n",
    "    for b in range(len(dataframe.columns)):\n",
    "        for a in range(len(dataframe)):\n",
    "            #print(f\"fila: {a} , columna: {b}\")\n",
    "            df.iloc[a,b] = re.sub(carex,'',dataframe.iloc[a,b].strip())\n",
    "            #dfclean.iloc[a,b] = df.iloc[a,b]  \n",
    "    return df\n"
   ]
  },
  {
   "cell_type": "code",
   "execution_count": null,
   "metadata": {},
   "outputs": [],
   "source": [
    "dfclean = cleanregister(df)\n",
    "\n",
    "dfclean"
   ]
  },
  {
   "cell_type": "markdown",
   "metadata": {},
   "source": [
    "# Extracción\n",
    "\n",
    "extraemos los campos importantes y creamos un tablas a partir de la extracción."
   ]
  },
  {
   "cell_type": "markdown",
   "metadata": {},
   "source": [
    "Los conceptos a extrar serán:\n",
    "\n",
    "PORYECTO:\n",
    "FOLIO:\n",
    "UBICACIÓN:\n",
    "CONTACTO:\n",
    "\n",
    "clave, descripción/partida , unidad, cantidad, P.U, cantidad\n",
    "\n",
    "COSTO TOTAL:\n",
    "\n",
    "\n",
    "Los campos en mayusculas son conceptos simples, es decir, tiene un unico dato/valor.\n",
    "\n",
    "Los campos que estan en minusculas consecutivamente son valores que por simplicidad podemos hacer una tabla propiamente, ya que en el documento excel estan presentados en tablas y su orden hará mas fácil la extracción.\n",
    "\n",
    "\n",
    "\n",
    "La tabla de cotizaciones tendra la siguiente forma:\n",
    "\n",
    "folio, fecha_cotizacion, proyecto, ubicación, contacto, estado, costo_total.\n",
    "\n",
    "Crearemos otra tabla llamada proyectos, ligada a la tabla cotizaciones:\n",
    "\n",
    "folio_cotización, n_partidas, cantidad/valor_por_partida, costo_total, descripción."
   ]
  },
  {
   "cell_type": "code",
   "execution_count": 120,
   "metadata": {},
   "outputs": [],
   "source": [
    "#BUSQUEDA\n",
    "def busqueda(dataframe):\n",
    "    metdata_cot = ['FOLIO','PROYECTO', 'CONTACTO' ,'UBICACI[OÓ]N', 'FECHA' , 'UNE' , 'COSTO TOTAL' ]  #palabras a buscar\n",
    "    coordenadas = np.empty((len(metdata_cot),5),dtype= object)              \n",
    "    for palabra in range(len(metdata_cot)):\n",
    "        for columnas in range(len(dataframe.columns)):\n",
    "            for fila in range(len(dataframe) ):\n",
    "                if re.search(metdata_cot[palabra], dataframe.iloc[fila,columnas]) != None:\n",
    "                    #guardamos la palabra y su coordenada de término de la palabra\n",
    "                    coordenadas[palabra] = [metdata_cot[palabra],fila,columnas,re.search(metdata_cot[palabra],df.iloc[fila,columnas]).start(),re.search(metdata_cot[palabra],df.iloc[fila,columnas]).end()]\n",
    "                    dataf = pd.DataFrame(coordenadas, columns= ['palabra', 'fila_df' , 'columna_df' , 'c_inicio' , 'c_fin' ])\n",
    "    \n",
    "    return dataf\n",
    "     \n",
    "            \n",
    "  #cambiamos la definicion de coordenadas de: np.full((len(metdata_cot),5),'') a lista = np.empty((3, 5), dtype=object) , ya que al definir la lista como la \n",
    "  #primer opcion, al querer asignar cadenas a estos elementos, como se definió que sus valores fueran vacios en np.full ('') asume que la longitud de los caracteres\n",
    "  # de los elementoe es de unidad 1, por eso cuando se quiere añadir una cadena de caracteres, solo toma la primera letra"
   ]
  },
  {
   "cell_type": "code",
   "execution_count": 124,
   "metadata": {},
   "outputs": [],
   "source": [
    "df = cleanregister(filetodataframe(limpieza1(cot1)))"
   ]
  },
  {
   "cell_type": "code",
   "execution_count": 125,
   "metadata": {},
   "outputs": [],
   "source": [
    "coordenadas = busqueda(df)"
   ]
  },
  {
   "cell_type": "code",
   "execution_count": 26,
   "metadata": {},
   "outputs": [
    {
     "data": {
      "text/html": [
       "<div>\n",
       "<style scoped>\n",
       "    .dataframe tbody tr th:only-of-type {\n",
       "        vertical-align: middle;\n",
       "    }\n",
       "\n",
       "    .dataframe tbody tr th {\n",
       "        vertical-align: top;\n",
       "    }\n",
       "\n",
       "    .dataframe thead th {\n",
       "        text-align: right;\n",
       "    }\n",
       "</style>\n",
       "<table border=\"1\" class=\"dataframe\">\n",
       "  <thead>\n",
       "    <tr style=\"text-align: right;\">\n",
       "      <th></th>\n",
       "      <th>palabra</th>\n",
       "      <th>fila_df</th>\n",
       "      <th>columna_df</th>\n",
       "      <th>c_inicio</th>\n",
       "      <th>c_fin</th>\n",
       "    </tr>\n",
       "  </thead>\n",
       "  <tbody>\n",
       "    <tr>\n",
       "      <th>0</th>\n",
       "      <td>FOLIO</td>\n",
       "      <td>5</td>\n",
       "      <td>1</td>\n",
       "      <td>17</td>\n",
       "      <td>22</td>\n",
       "    </tr>\n",
       "    <tr>\n",
       "      <th>1</th>\n",
       "      <td>PROYECTO</td>\n",
       "      <td>1</td>\n",
       "      <td>0</td>\n",
       "      <td>2</td>\n",
       "      <td>10</td>\n",
       "    </tr>\n",
       "    <tr>\n",
       "      <th>2</th>\n",
       "      <td>CONTACTO</td>\n",
       "      <td>1</td>\n",
       "      <td>3</td>\n",
       "      <td>2</td>\n",
       "      <td>10</td>\n",
       "    </tr>\n",
       "    <tr>\n",
       "      <th>3</th>\n",
       "      <td>UBICACI[OÓ]N</td>\n",
       "      <td>1</td>\n",
       "      <td>2</td>\n",
       "      <td>2</td>\n",
       "      <td>11</td>\n",
       "    </tr>\n",
       "    <tr>\n",
       "      <th>4</th>\n",
       "      <td>FECHA</td>\n",
       "      <td>5</td>\n",
       "      <td>3</td>\n",
       "      <td>39</td>\n",
       "      <td>44</td>\n",
       "    </tr>\n",
       "    <tr>\n",
       "      <th>5</th>\n",
       "      <td>UNE</td>\n",
       "      <td>5</td>\n",
       "      <td>2</td>\n",
       "      <td>41</td>\n",
       "      <td>44</td>\n",
       "    </tr>\n",
       "    <tr>\n",
       "      <th>6</th>\n",
       "      <td>COSTO TOTAL</td>\n",
       "      <td>1</td>\n",
       "      <td>33</td>\n",
       "      <td>2</td>\n",
       "      <td>13</td>\n",
       "    </tr>\n",
       "  </tbody>\n",
       "</table>\n",
       "</div>"
      ],
      "text/plain": [
       "        palabra fila_df columna_df c_inicio c_fin\n",
       "0         FOLIO       5          1       17    22\n",
       "1      PROYECTO       1          0        2    10\n",
       "2      CONTACTO       1          3        2    10\n",
       "3  UBICACI[OÓ]N       1          2        2    11\n",
       "4         FECHA       5          3       39    44\n",
       "5           UNE       5          2       41    44\n",
       "6   COSTO TOTAL       1         33        2    13"
      ]
     },
     "execution_count": 26,
     "metadata": {},
     "output_type": "execute_result"
    }
   ],
   "source": [
    "#print(busqueda(dfclean))\n",
    "\n",
    "coor = busqueda(dfclean)\n",
    "\n",
    "coor"
   ]
  },
  {
   "cell_type": "code",
   "execution_count": 113,
   "metadata": {},
   "outputs": [],
   "source": [
    "#EXTRACCIÓN:\n",
    "\n",
    "#Definimos la tabla de los metadatos:\n",
    "# folio, proyecto, contacto, ubicacion, fecha, une, costo total\n",
    "\n",
    "#El campo costo total y el valor van por separados, dentro de la misma columna, pero a diferencia de los otros\n",
    "#campos, este no va junto con su valor, por lo que tenemos que tratarlo aparte\n",
    "cotizaciones = pd.DataFrame(columns=coor['palabra'])\n",
    "\n",
    "\n",
    "def ext(dataframe, cordinates):\n",
    "#definimos el paquete (esquema) para ordenar\n",
    "    f = np.empty((len(cordinates),1),dtype = object)  \n",
    "    for fila in range(len(cordinates)):\n",
    "            if fila < 6: \n",
    "                f[fila] = [dfclean.iloc[coor['fila_df'][fila],coor['columna_df'][fila]][coor['c_fin'][fila]:]]    \n",
    "                #print(f)\n",
    "    else:\n",
    "            for n in range(1,len(dfclean),1):\n",
    "                if re.search('\\$',dfclean.iloc[n,33]) != None: \n",
    "                    #print(dfclean.iloc[n,33])\n",
    "                    #print(dfclean.iloc[n,33][2:] + dfclean.iloc[n+1,33][0:]) \n",
    "                    f[fila] = [dfclean.iloc[n,33][2:] + dfclean.iloc[n+1,33][0:]] \n",
    "    return list(f)\n",
    "\n",
    "\n"
   ]
  },
  {
   "cell_type": "markdown",
   "metadata": {},
   "source": [
    "#Extracción de lote de 5:\n",
    "\n",
    "Las funciones creadas son:\n",
    "\n",
    "1.- limpieza1(dataframe)\n",
    "\n",
    "2.-filetodata(dataframe)\n",
    "\n",
    "3.-cleanregister(dataframe)\n",
    "\n",
    "4.- busqueda(dataframe) output: coordinates\n",
    "\n",
    "5.- extraccion(dataframe, coordinates)"
   ]
  },
  {
   "cell_type": "code",
   "execution_count": 151,
   "metadata": {},
   "outputs": [],
   "source": [
    "#Realizamos el proceso de extracción para estas 5 cotizaciones\n",
    "\n",
    "def extract(dataframe):\n",
    "    a = limpieza1(dataframe)\n",
    "    print(f\"proceso eliminación valores vacios y términos y condiciones.\")\n",
    "    b = filetodataframe(a)\n",
    "    print(\"proceso de transformación a dataframe realizado con éxito.\")\n",
    "    c = cleanregister(b)\n",
    "    print(\"proceso de limpieza de registros realizado con éxito.\")\n",
    "    d = busqueda(c)\n",
    "    print(\"proceso de busqueda de patrones realizada con éxito\")\n",
    "    e = ext(c,d)\n",
    "    print(\"proceso de extracción realizado con éxito\")\n",
    "    return e\n",
    "    \n",
    "    "
   ]
  },
  {
   "cell_type": "code",
   "execution_count": 153,
   "metadata": {},
   "outputs": [
    {
     "name": "stdout",
     "output_type": "stream",
     "text": [
      "proceso eliminación valores vacios y términos y condiciones\n",
      "proceso de transformación a dataframe realizado con éxito\n",
      "proceso de limpieza de registros realizado con éxito\n"
     ]
    },
    {
     "ename": "AttributeError",
     "evalue": "'NoneType' object has no attribute 'start'",
     "output_type": "error",
     "traceback": [
      "\u001b[1;31m---------------------------------------------------------------------------\u001b[0m",
      "\u001b[1;31mAttributeError\u001b[0m                            Traceback (most recent call last)",
      "\u001b[1;32m~\\AppData\\Local\\Temp\\ipykernel_25220\\2864608595.py\u001b[0m in \u001b[0;36m<module>\u001b[1;34m\u001b[0m\n\u001b[1;32m----> 1\u001b[1;33m \u001b[0ma1\u001b[0m \u001b[1;33m=\u001b[0m \u001b[0mextract\u001b[0m\u001b[1;33m(\u001b[0m\u001b[0mcot1\u001b[0m\u001b[1;33m)\u001b[0m\u001b[1;33m\u001b[0m\u001b[1;33m\u001b[0m\u001b[0m\n\u001b[0m\u001b[0;32m      2\u001b[0m \u001b[0mprint\u001b[0m\u001b[1;33m(\u001b[0m\u001b[1;34m\"cotizacion 1 realizada con éxito\"\u001b[0m\u001b[1;33m)\u001b[0m\u001b[1;33m\u001b[0m\u001b[1;33m\u001b[0m\u001b[0m\n\u001b[0;32m      3\u001b[0m \u001b[0ma2\u001b[0m \u001b[1;33m=\u001b[0m \u001b[0mextract\u001b[0m\u001b[1;33m(\u001b[0m\u001b[0mcot2\u001b[0m\u001b[1;33m)\u001b[0m\u001b[1;33m\u001b[0m\u001b[1;33m\u001b[0m\u001b[0m\n\u001b[0;32m      4\u001b[0m \u001b[0mprint\u001b[0m\u001b[1;33m(\u001b[0m\u001b[1;34m\"cotizacion 2 realizada con éxito\"\u001b[0m\u001b[1;33m)\u001b[0m\u001b[1;33m\u001b[0m\u001b[1;33m\u001b[0m\u001b[0m\n\u001b[0;32m      5\u001b[0m \u001b[0ma3\u001b[0m \u001b[1;33m=\u001b[0m \u001b[0mextract\u001b[0m\u001b[1;33m(\u001b[0m\u001b[0mcot3\u001b[0m\u001b[1;33m)\u001b[0m\u001b[1;33m\u001b[0m\u001b[1;33m\u001b[0m\u001b[0m\n",
      "\u001b[1;32m~\\AppData\\Local\\Temp\\ipykernel_25220\\182742390.py\u001b[0m in \u001b[0;36mextract\u001b[1;34m(dataframe)\u001b[0m\n\u001b[0;32m      8\u001b[0m     \u001b[0mc\u001b[0m \u001b[1;33m=\u001b[0m \u001b[0mcleanregister\u001b[0m\u001b[1;33m(\u001b[0m\u001b[0mb\u001b[0m\u001b[1;33m)\u001b[0m\u001b[1;33m\u001b[0m\u001b[1;33m\u001b[0m\u001b[0m\n\u001b[0;32m      9\u001b[0m     \u001b[0mprint\u001b[0m\u001b[1;33m(\u001b[0m\u001b[1;34m\"proceso de limpieza de registros realizado con éxito\"\u001b[0m\u001b[1;33m)\u001b[0m\u001b[1;33m\u001b[0m\u001b[1;33m\u001b[0m\u001b[0m\n\u001b[1;32m---> 10\u001b[1;33m     \u001b[0md\u001b[0m \u001b[1;33m=\u001b[0m \u001b[0mbusqueda\u001b[0m\u001b[1;33m(\u001b[0m\u001b[0mc\u001b[0m\u001b[1;33m)\u001b[0m\u001b[1;33m\u001b[0m\u001b[1;33m\u001b[0m\u001b[0m\n\u001b[0m\u001b[0;32m     11\u001b[0m     \u001b[0mprint\u001b[0m\u001b[1;33m(\u001b[0m\u001b[1;34m\"proceso de busqueda de patrones realizada con éxito\"\u001b[0m\u001b[1;33m)\u001b[0m\u001b[1;33m\u001b[0m\u001b[1;33m\u001b[0m\u001b[0m\n\u001b[0;32m     12\u001b[0m     \u001b[0me\u001b[0m \u001b[1;33m=\u001b[0m \u001b[0mext\u001b[0m\u001b[1;33m(\u001b[0m\u001b[0mc\u001b[0m\u001b[1;33m,\u001b[0m\u001b[0md\u001b[0m\u001b[1;33m)\u001b[0m\u001b[1;33m\u001b[0m\u001b[1;33m\u001b[0m\u001b[0m\n",
      "\u001b[1;32m~\\AppData\\Local\\Temp\\ipykernel_25220\\169280183.py\u001b[0m in \u001b[0;36mbusqueda\u001b[1;34m(dataframe)\u001b[0m\n\u001b[0;32m      9\u001b[0m                 \u001b[1;32mif\u001b[0m \u001b[0mre\u001b[0m\u001b[1;33m.\u001b[0m\u001b[0msearch\u001b[0m\u001b[1;33m(\u001b[0m\u001b[0mmetdata_cot\u001b[0m\u001b[1;33m[\u001b[0m\u001b[0mpalabra\u001b[0m\u001b[1;33m]\u001b[0m\u001b[1;33m,\u001b[0m \u001b[0mdataframe\u001b[0m\u001b[1;33m.\u001b[0m\u001b[0miloc\u001b[0m\u001b[1;33m[\u001b[0m\u001b[0mfila\u001b[0m\u001b[1;33m,\u001b[0m\u001b[0mcolumnas\u001b[0m\u001b[1;33m]\u001b[0m\u001b[1;33m)\u001b[0m \u001b[1;33m!=\u001b[0m \u001b[1;32mNone\u001b[0m\u001b[1;33m:\u001b[0m\u001b[1;33m\u001b[0m\u001b[1;33m\u001b[0m\u001b[0m\n\u001b[0;32m     10\u001b[0m                     \u001b[1;31m#guardamos la palabra y su coordenada de término de la palabra\u001b[0m\u001b[1;33m\u001b[0m\u001b[1;33m\u001b[0m\u001b[0m\n\u001b[1;32m---> 11\u001b[1;33m                     \u001b[0mcoordenadas\u001b[0m\u001b[1;33m[\u001b[0m\u001b[0mpalabra\u001b[0m\u001b[1;33m]\u001b[0m \u001b[1;33m=\u001b[0m \u001b[1;33m[\u001b[0m\u001b[0mmetdata_cot\u001b[0m\u001b[1;33m[\u001b[0m\u001b[0mpalabra\u001b[0m\u001b[1;33m]\u001b[0m\u001b[1;33m,\u001b[0m\u001b[0mfila\u001b[0m\u001b[1;33m,\u001b[0m\u001b[0mcolumnas\u001b[0m\u001b[1;33m,\u001b[0m\u001b[0mre\u001b[0m\u001b[1;33m.\u001b[0m\u001b[0msearch\u001b[0m\u001b[1;33m(\u001b[0m\u001b[0mmetdata_cot\u001b[0m\u001b[1;33m[\u001b[0m\u001b[0mpalabra\u001b[0m\u001b[1;33m]\u001b[0m\u001b[1;33m,\u001b[0m\u001b[0mdf\u001b[0m\u001b[1;33m.\u001b[0m\u001b[0miloc\u001b[0m\u001b[1;33m[\u001b[0m\u001b[0mfila\u001b[0m\u001b[1;33m,\u001b[0m\u001b[0mcolumnas\u001b[0m\u001b[1;33m]\u001b[0m\u001b[1;33m)\u001b[0m\u001b[1;33m.\u001b[0m\u001b[0mstart\u001b[0m\u001b[1;33m(\u001b[0m\u001b[1;33m)\u001b[0m\u001b[1;33m,\u001b[0m\u001b[0mre\u001b[0m\u001b[1;33m.\u001b[0m\u001b[0msearch\u001b[0m\u001b[1;33m(\u001b[0m\u001b[0mmetdata_cot\u001b[0m\u001b[1;33m[\u001b[0m\u001b[0mpalabra\u001b[0m\u001b[1;33m]\u001b[0m\u001b[1;33m,\u001b[0m\u001b[0mdf\u001b[0m\u001b[1;33m.\u001b[0m\u001b[0miloc\u001b[0m\u001b[1;33m[\u001b[0m\u001b[0mfila\u001b[0m\u001b[1;33m,\u001b[0m\u001b[0mcolumnas\u001b[0m\u001b[1;33m]\u001b[0m\u001b[1;33m)\u001b[0m\u001b[1;33m.\u001b[0m\u001b[0mend\u001b[0m\u001b[1;33m(\u001b[0m\u001b[1;33m)\u001b[0m\u001b[1;33m]\u001b[0m\u001b[1;33m\u001b[0m\u001b[1;33m\u001b[0m\u001b[0m\n\u001b[0m\u001b[0;32m     12\u001b[0m                     \u001b[0mdataf\u001b[0m \u001b[1;33m=\u001b[0m \u001b[0mpd\u001b[0m\u001b[1;33m.\u001b[0m\u001b[0mDataFrame\u001b[0m\u001b[1;33m(\u001b[0m\u001b[0mcoordenadas\u001b[0m\u001b[1;33m,\u001b[0m \u001b[0mcolumns\u001b[0m\u001b[1;33m=\u001b[0m \u001b[1;33m[\u001b[0m\u001b[1;34m'palabra'\u001b[0m\u001b[1;33m,\u001b[0m \u001b[1;34m'fila_df'\u001b[0m \u001b[1;33m,\u001b[0m \u001b[1;34m'columna_df'\u001b[0m \u001b[1;33m,\u001b[0m \u001b[1;34m'c_inicio'\u001b[0m \u001b[1;33m,\u001b[0m \u001b[1;34m'c_fin'\u001b[0m \u001b[1;33m]\u001b[0m\u001b[1;33m)\u001b[0m\u001b[1;33m\u001b[0m\u001b[1;33m\u001b[0m\u001b[0m\n\u001b[0;32m     13\u001b[0m \u001b[1;33m\u001b[0m\u001b[0m\n",
      "\u001b[1;31mAttributeError\u001b[0m: 'NoneType' object has no attribute 'start'"
     ]
    }
   ],
   "source": [
    "a1 = extract(cot1)\n",
    "print(\"cotizacion 1 realizada con éxito\")\n",
    "a2 = extract(cot2)\n",
    "print(\"cotizacion 2 realizada con éxito\")\n",
    "a3 = extract(cot3)\n",
    "print(\"cotizacion 3 realizada con éxito\")\n",
    "a4 = extract(cot4)\n",
    "print(\"cotizacion 4 realizada con éxito\")\n",
    "a5 = extract(cot5)\n",
    "print(\"cotizacion 5 realizada con éxito\")\n"
   ]
  },
  {
   "cell_type": "code",
   "execution_count": 150,
   "metadata": {},
   "outputs": [
    {
     "name": "stdout",
     "output_type": "stream",
     "text": [
      "el crudo:                range majorDimension  \\\n",
      "0   CARATULA!A1:H150           ROWS   \n",
      "1   CARATULA!A1:H150           ROWS   \n",
      "2   CARATULA!A1:H150           ROWS   \n",
      "3   CARATULA!A1:H150           ROWS   \n",
      "4   CARATULA!A1:H150           ROWS   \n",
      "5   CARATULA!A1:H150           ROWS   \n",
      "6   CARATULA!A1:H150           ROWS   \n",
      "7   CARATULA!A1:H150           ROWS   \n",
      "8   CARATULA!A1:H150           ROWS   \n",
      "9   CARATULA!A1:H150           ROWS   \n",
      "10  CARATULA!A1:H150           ROWS   \n",
      "11  CARATULA!A1:H150           ROWS   \n",
      "12  CARATULA!A1:H150           ROWS   \n",
      "13  CARATULA!A1:H150           ROWS   \n",
      "14  CARATULA!A1:H150           ROWS   \n",
      "15  CARATULA!A1:H150           ROWS   \n",
      "16  CARATULA!A1:H150           ROWS   \n",
      "17  CARATULA!A1:H150           ROWS   \n",
      "18  CARATULA!A1:H150           ROWS   \n",
      "19  CARATULA!A1:H150           ROWS   \n",
      "20  CARATULA!A1:H150           ROWS   \n",
      "21  CARATULA!A1:H150           ROWS   \n",
      "\n",
      "                                               values  \n",
      "0                                                  []  \n",
      "1                                                  []  \n",
      "2                                                  []  \n",
      "3   ['', 'PROYECTO: SERVICIO DE DESCARGA Y ARRASTR...  \n",
      "4   ['', '', '', '', '', '               FOLIO: CT...  \n",
      "5   ['', 'UBICACIÓN: PLANTA TOPRE', '', '', '', ' ...  \n",
      "6   ['', 'CONTACTO:  BENITO ZAMORA / ELECTROSERVIC...  \n",
      "7   ['', 'DOMICILIO:INFINITO #210, UNIVERSO 2000, ...  \n",
      "8   ['', 'CLAVE', 'INLCUYE', 'UNIDAD', ' CANTIDAD'...  \n",
      "9                                                  []  \n",
      "10  ['', '1', 'Servicio de descarga y arrastre de ...  \n",
      "11  ['', 'COSTO TOTAL ', '', '', '', '', ' $ 74,46...  \n",
      "12                   ['', 'TERMINOS Y CONDICIONES: ']  \n",
      "13  ['', '1.-Esta cotizacion NO INCLUYE IVA el cua...  \n",
      "14               ['', '2.-Moneda:  MONEDA NACIONAL ']  \n",
      "15  ['', '3.-Vigencia de cotización:  5 días natur...  \n",
      "16  ['', '4.-Todo lo no especificado o considerado...  \n",
      "17  ['', '5.-Favor de enviar su orden de compra al...  \n",
      "18  ['', '6.-Tiempo de entrega: Una semana, despue...  \n",
      "19  ['', '7.- El servicio será realizado en planta...  \n",
      "20  ['', '8.- Esta considerado trabajar en un solo...  \n",
      "21  ['', '9.- En caso de cancelacion de proyecto, ...  \n"
     ]
    },
    {
     "ename": "AttributeError",
     "evalue": "'NoneType' object has no attribute 'start'",
     "output_type": "error",
     "traceback": [
      "\u001b[1;31m---------------------------------------------------------------------------\u001b[0m",
      "\u001b[1;31mAttributeError\u001b[0m                            Traceback (most recent call last)",
      "\u001b[1;32m~\\AppData\\Local\\Temp\\ipykernel_25220\\2994934898.py\u001b[0m in \u001b[0;36m<module>\u001b[1;34m\u001b[0m\n\u001b[0;32m     10\u001b[0m \u001b[1;32mfor\u001b[0m \u001b[0mcot\u001b[0m \u001b[1;32min\u001b[0m \u001b[0mcots\u001b[0m\u001b[1;33m:\u001b[0m\u001b[1;33m\u001b[0m\u001b[1;33m\u001b[0m\u001b[0m\n\u001b[0;32m     11\u001b[0m     \u001b[0mprint\u001b[0m\u001b[1;33m(\u001b[0m\u001b[1;34mf\"el crudo: {cot}\"\u001b[0m\u001b[1;33m)\u001b[0m\u001b[1;33m\u001b[0m\u001b[1;33m\u001b[0m\u001b[0m\n\u001b[1;32m---> 12\u001b[1;33m     \u001b[0mf\u001b[0m \u001b[1;33m=\u001b[0m \u001b[0mextract\u001b[0m\u001b[1;33m(\u001b[0m\u001b[0mcot\u001b[0m\u001b[1;33m)\u001b[0m\u001b[1;33m\u001b[0m\u001b[1;33m\u001b[0m\u001b[0m\n\u001b[0m\u001b[0;32m     13\u001b[0m     \u001b[0mprint\u001b[0m\u001b[1;33m(\u001b[0m\u001b[1;34mf\"transformado: {f}\"\u001b[0m\u001b[1;33m)\u001b[0m\u001b[1;33m\u001b[0m\u001b[1;33m\u001b[0m\u001b[0m\n\u001b[0;32m     14\u001b[0m     \u001b[1;31m#\u001b[0m\u001b[1;33m\u001b[0m\u001b[1;33m\u001b[0m\u001b[0m\n",
      "\u001b[1;32m~\\AppData\\Local\\Temp\\ipykernel_25220\\3970859537.py\u001b[0m in \u001b[0;36mextract\u001b[1;34m(dataframe)\u001b[0m\n\u001b[0;32m      9\u001b[0m     \u001b[1;31m# #print(fila)\u001b[0m\u001b[1;33m\u001b[0m\u001b[1;33m\u001b[0m\u001b[0m\n\u001b[0;32m     10\u001b[0m     \u001b[1;31m# return fila\u001b[0m\u001b[1;33m\u001b[0m\u001b[1;33m\u001b[0m\u001b[0m\n\u001b[1;32m---> 11\u001b[1;33m     \u001b[1;32mreturn\u001b[0m \u001b[0mext\u001b[0m\u001b[1;33m(\u001b[0m \u001b[0mcleanregister\u001b[0m\u001b[1;33m(\u001b[0m\u001b[0mfiletodataframe\u001b[0m\u001b[1;33m(\u001b[0m\u001b[0mlimpieza1\u001b[0m\u001b[1;33m(\u001b[0m\u001b[0mdataframe\u001b[0m\u001b[1;33m)\u001b[0m\u001b[1;33m)\u001b[0m\u001b[1;33m)\u001b[0m\u001b[1;33m,\u001b[0m\u001b[0mbusqueda\u001b[0m\u001b[1;33m(\u001b[0m \u001b[0mcleanregister\u001b[0m\u001b[1;33m(\u001b[0m\u001b[0mfiletodataframe\u001b[0m\u001b[1;33m(\u001b[0m\u001b[0mlimpieza1\u001b[0m\u001b[1;33m(\u001b[0m\u001b[0mdataframe\u001b[0m\u001b[1;33m)\u001b[0m\u001b[1;33m)\u001b[0m\u001b[1;33m)\u001b[0m\u001b[1;33m)\u001b[0m \u001b[1;33m)\u001b[0m\u001b[1;33m\u001b[0m\u001b[1;33m\u001b[0m\u001b[0m\n\u001b[0m\u001b[0;32m     12\u001b[0m \u001b[1;33m\u001b[0m\u001b[0m\n",
      "\u001b[1;32m~\\AppData\\Local\\Temp\\ipykernel_25220\\169280183.py\u001b[0m in \u001b[0;36mbusqueda\u001b[1;34m(dataframe)\u001b[0m\n\u001b[0;32m      9\u001b[0m                 \u001b[1;32mif\u001b[0m \u001b[0mre\u001b[0m\u001b[1;33m.\u001b[0m\u001b[0msearch\u001b[0m\u001b[1;33m(\u001b[0m\u001b[0mmetdata_cot\u001b[0m\u001b[1;33m[\u001b[0m\u001b[0mpalabra\u001b[0m\u001b[1;33m]\u001b[0m\u001b[1;33m,\u001b[0m \u001b[0mdataframe\u001b[0m\u001b[1;33m.\u001b[0m\u001b[0miloc\u001b[0m\u001b[1;33m[\u001b[0m\u001b[0mfila\u001b[0m\u001b[1;33m,\u001b[0m\u001b[0mcolumnas\u001b[0m\u001b[1;33m]\u001b[0m\u001b[1;33m)\u001b[0m \u001b[1;33m!=\u001b[0m \u001b[1;32mNone\u001b[0m\u001b[1;33m:\u001b[0m\u001b[1;33m\u001b[0m\u001b[1;33m\u001b[0m\u001b[0m\n\u001b[0;32m     10\u001b[0m                     \u001b[1;31m#guardamos la palabra y su coordenada de término de la palabra\u001b[0m\u001b[1;33m\u001b[0m\u001b[1;33m\u001b[0m\u001b[0m\n\u001b[1;32m---> 11\u001b[1;33m                     \u001b[0mcoordenadas\u001b[0m\u001b[1;33m[\u001b[0m\u001b[0mpalabra\u001b[0m\u001b[1;33m]\u001b[0m \u001b[1;33m=\u001b[0m \u001b[1;33m[\u001b[0m\u001b[0mmetdata_cot\u001b[0m\u001b[1;33m[\u001b[0m\u001b[0mpalabra\u001b[0m\u001b[1;33m]\u001b[0m\u001b[1;33m,\u001b[0m\u001b[0mfila\u001b[0m\u001b[1;33m,\u001b[0m\u001b[0mcolumnas\u001b[0m\u001b[1;33m,\u001b[0m\u001b[0mre\u001b[0m\u001b[1;33m.\u001b[0m\u001b[0msearch\u001b[0m\u001b[1;33m(\u001b[0m\u001b[0mmetdata_cot\u001b[0m\u001b[1;33m[\u001b[0m\u001b[0mpalabra\u001b[0m\u001b[1;33m]\u001b[0m\u001b[1;33m,\u001b[0m\u001b[0mdf\u001b[0m\u001b[1;33m.\u001b[0m\u001b[0miloc\u001b[0m\u001b[1;33m[\u001b[0m\u001b[0mfila\u001b[0m\u001b[1;33m,\u001b[0m\u001b[0mcolumnas\u001b[0m\u001b[1;33m]\u001b[0m\u001b[1;33m)\u001b[0m\u001b[1;33m.\u001b[0m\u001b[0mstart\u001b[0m\u001b[1;33m(\u001b[0m\u001b[1;33m)\u001b[0m\u001b[1;33m,\u001b[0m\u001b[0mre\u001b[0m\u001b[1;33m.\u001b[0m\u001b[0msearch\u001b[0m\u001b[1;33m(\u001b[0m\u001b[0mmetdata_cot\u001b[0m\u001b[1;33m[\u001b[0m\u001b[0mpalabra\u001b[0m\u001b[1;33m]\u001b[0m\u001b[1;33m,\u001b[0m\u001b[0mdf\u001b[0m\u001b[1;33m.\u001b[0m\u001b[0miloc\u001b[0m\u001b[1;33m[\u001b[0m\u001b[0mfila\u001b[0m\u001b[1;33m,\u001b[0m\u001b[0mcolumnas\u001b[0m\u001b[1;33m]\u001b[0m\u001b[1;33m)\u001b[0m\u001b[1;33m.\u001b[0m\u001b[0mend\u001b[0m\u001b[1;33m(\u001b[0m\u001b[1;33m)\u001b[0m\u001b[1;33m]\u001b[0m\u001b[1;33m\u001b[0m\u001b[1;33m\u001b[0m\u001b[0m\n\u001b[0m\u001b[0;32m     12\u001b[0m                     \u001b[0mdataf\u001b[0m \u001b[1;33m=\u001b[0m \u001b[0mpd\u001b[0m\u001b[1;33m.\u001b[0m\u001b[0mDataFrame\u001b[0m\u001b[1;33m(\u001b[0m\u001b[0mcoordenadas\u001b[0m\u001b[1;33m,\u001b[0m \u001b[0mcolumns\u001b[0m\u001b[1;33m=\u001b[0m \u001b[1;33m[\u001b[0m\u001b[1;34m'palabra'\u001b[0m\u001b[1;33m,\u001b[0m \u001b[1;34m'fila_df'\u001b[0m \u001b[1;33m,\u001b[0m \u001b[1;34m'columna_df'\u001b[0m \u001b[1;33m,\u001b[0m \u001b[1;34m'c_inicio'\u001b[0m \u001b[1;33m,\u001b[0m \u001b[1;34m'c_fin'\u001b[0m \u001b[1;33m]\u001b[0m\u001b[1;33m)\u001b[0m\u001b[1;33m\u001b[0m\u001b[1;33m\u001b[0m\u001b[0m\n\u001b[0;32m     13\u001b[0m \u001b[1;33m\u001b[0m\u001b[0m\n",
      "\u001b[1;31mAttributeError\u001b[0m: 'NoneType' object has no attribute 'start'"
     ]
    }
   ],
   "source": [
    "#del cotizaciones\n",
    "\n",
    "cotizaciones = pd.DataFrame(columns=coor['palabra'])\n",
    "\n",
    "cots = [cot1,cot2,cot3,cot4,cot5]\n",
    "\n",
    "#cots = {nombre_cotizacion : cotizacion for nombre_cotizacion,cotizacion in zip(,)}\n",
    "\n",
    "\n",
    "for cot in cots:\n",
    "    print(f\"el crudo: {cot}\")\n",
    "    f = extract(cot)\n",
    "    print(f\"transformado: {f}\")\n",
    "    # \n",
    "    # cotizaciones = cotizaciones.append(pd.Series(f, index=cotizaciones.columns), ignore_index=True)\n",
    "\n",
    "\n"
   ]
  },
  {
   "cell_type": "code",
   "execution_count": 154,
   "metadata": {},
   "outputs": [
    {
     "data": {
      "text/plain": [
       "[array(['CTQ-000952'], dtype=object),\n",
       " array(['EMBALAJE LINEA EP5'], dtype=object),\n",
       " array([' ANA GUTIERREZ'], dtype=object),\n",
       " array(['PLANTA ZF DIRECCIONES '], dtype=object),\n",
       " array(['11/07/2023'], dtype=object),\n",
       " array(['QUERETARO'], dtype=object),\n",
       " array([' 481000.000 '], dtype=object)]"
      ]
     },
     "execution_count": 154,
     "metadata": {},
     "output_type": "execute_result"
    }
   ],
   "source": [
    "df = cleanregister(filetodataframe(limpieza1(cot1)))\n",
    "\n",
    "\n",
    "df1 = busqueda(df)\n",
    "\n",
    "extraccion2 = ext(df,df1)\n",
    "\n",
    "extraccion2\n",
    "# def busqueda(dataframe):\n",
    "#     #metdata_cot = ['folio', 'proyecto', 'contacto','ubicaci[oó]','fecha','UNE', 'costo total' ]  #palabras a buscar\n",
    "#     metdata_cot = ['FOLIO','PROYECTO', 'CONTACTO' ,'UBICACI[OÓ]N', 'FECHA' , 'UNE' , 'COSTO TOTAL' ]  #palabras a buscar\n",
    "#     coordenadas = np.empty((len(metdata_cot),5),dtype= object)              \n",
    "#     for palabra in range(len(metdata_cot)):\n",
    "#         for columnas in range(len(dataframe.columns)):\n",
    "#             for fila in range(len(dataframe) ):\n",
    "#                 if re.search(metdata_cot[palabra], dataframe.iloc[fila,columnas]) != None:\n",
    "#                     #guardamos la palabra y su coordenada de término de la palabra\n",
    "#                     coordenadas[palabra] = [metdata_cot[palabra],fila,columnas,re.search(metdata_cot[palabra],df.iloc[fila,columnas]).start(),re.search(metdata_cot[palabra],df.iloc[fila,columnas]).end()]\n",
    "#                     dataf = pd.DataFrame(coordenadas, columns= ['palabra', 'fila_df' , 'columna_df' , 'c_inicio' , 'c_fin' ])\n",
    "    \n",
    "#     return dataf"
   ]
  },
  {
   "cell_type": "code",
   "execution_count": null,
   "metadata": {},
   "outputs": [],
   "source": []
  }
 ],
 "metadata": {
  "kernelspec": {
   "display_name": "base",
   "language": "python",
   "name": "python3"
  },
  "language_info": {
   "codemirror_mode": {
    "name": "ipython",
    "version": 3
   },
   "file_extension": ".py",
   "mimetype": "text/x-python",
   "name": "python",
   "nbconvert_exporter": "python",
   "pygments_lexer": "ipython3",
   "version": "3.9.13"
  }
 },
 "nbformat": 4,
 "nbformat_minor": 2
}
