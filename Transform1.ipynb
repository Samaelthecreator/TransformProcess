{
 "cells": [
  {
   "cell_type": "markdown",
   "metadata": {},
   "source": [
    "Realizaremos el primer proceso de limpieza, teniendo en cuenta los siguientes puntos:\n",
    "\n",
    "A.- Valores nulos\n",
    "\n",
    "B.- Valores duplicados\n",
    "\n",
    "C.- datos faltantes\n",
    "\n",
    "D.- datos no necesarios"
   ]
  },
  {
   "cell_type": "markdown",
   "metadata": {},
   "source": [
    "# Análisis exploratorio\n",
    "\n",
    "El análisis exploratorio nos dará información estructural de los dataframes (tamaño, orden, etc) para poder realizar el primer proceso de limpieza, en donde queden unicamente datos relevantes, para que posteriormente se haga una transformación (reducción)"
   ]
  },
  {
   "cell_type": "code",
   "execution_count": 235,
   "metadata": {},
   "outputs": [],
   "source": [
    "import pandas as pd\n",
    "#Importamos 5 cotizaciones para realizar la parte de limpieza.\n",
    "\n",
    "cot1 = pd.read_csv('C:/Users/52473/OneDrive/Documentos/SITEC/Cotizaciones (caratula)/Capa1Extract/2023/Enero/CTQ-787 ELECTROSERVICIOS (DESCARGA Y ARRASTRE DE MAQUINA).csv')\n",
    "cot2 = pd.read_csv('C:/Users/52473/OneDrive/Documentos/SITEC/Cotizaciones (caratula)/Capa1Extract/2023/Febrero/CTQ-844 BUSSMANN (SERVICIO DE SUMINISTRO DE RUEDA).csv')\n",
    "cot3 = pd.read_csv('C:/Users/52473/OneDrive/Documentos/SITEC/Cotizaciones (caratula)/Capa1Extract/2023/Julio/CTQ-952 ZF (EMBALAJE LINEA EP5).csv')\n",
    "cot4 = pd.read_csv('C:/Users/52473/OneDrive/Documentos/SITEC/Cotizaciones (caratula)/Capa1Extract/2023/Septiembre/CTQ-995 PIZZA HUT (SERVICIO DE FABRICACIÓN DE PUERTA PARA ÁREA DEL SITE).csv')\n",
    "cot5 = pd.read_csv('C:/Users/52473/OneDrive/Documentos/SITEC/Cotizaciones (caratula)/Capa1Extract/2023/Noviembre/CTQ-1042 VALEO (SUMINISTRO DE VIDRIO TEMPLADO).csv')"
   ]
  },
  {
   "cell_type": "markdown",
   "metadata": {},
   "source": [
    "Los dataframes provienen de diccionarios, es decir, las columnas: range, majorDimensio, provienen de la funcion de extracción de Google Sheets.\n",
    "\n",
    "La columna importantes es unicamente \"value\", extraeremos esa información, quitando las entradas que representan los terminos y condiciones\n",
    "\n"
   ]
  },
  {
   "cell_type": "code",
   "execution_count": 245,
   "metadata": {},
   "outputs": [],
   "source": [
    "#Creamos funciones de transformación\n",
    "\n",
    "\n",
    "#Funcion para eliminar valores nulos en este contexto:\n",
    "\n",
    "def dropnull(df):\n",
    "    j=0\n",
    "    while j<len(df):\n",
    "        if '[]' in df['values'][j]:\n",
    "            print(f\"el registro {j} es nulo\")\n",
    "            df=df.drop(index = df.index[j])\n",
    "            df.reset_index(drop = True, inplace = True)\n",
    "            #print(f\"dimension interaccion {n}\")\n",
    "            #print(f\"dimension real: {len(cotizacion1)}\")\n",
    "        else:\n",
    "            #print(f\"registro {j} no nulo\")\n",
    "            #print(f\"dimension real: {len(cotizacion1)}\")\n",
    "            j+=1\n",
    "    return df\n",
    "\n",
    "def dropextrainf(df):\n",
    "    n=0\n",
    "    while n< len(df):\n",
    "        if 'TÉRMINOS' in df['values'][n] or 'TERMINOS' in df['values'][n]:\n",
    "            print(f\"A partir del registro {n} tiene los terminos y condiciones\")\n",
    "            df = df.drop(index = df.index[n:])\n",
    "            break\n",
    "        else:\n",
    "            print(f\"La información de este registro {n} es importante\")\n",
    "            n+=1\n",
    "    return df"
   ]
  },
  {
   "cell_type": "code",
   "execution_count": 247,
   "metadata": {},
   "outputs": [
    {
     "name": "stdout",
     "output_type": "stream",
     "text": [
      "el registro 0 es nulo\n",
      "el registro 0 es nulo\n",
      "el registro 0 es nulo\n",
      "el registro 6 es nulo\n",
      "La información de este registro 0 es importante\n",
      "La información de este registro 1 es importante\n",
      "La información de este registro 2 es importante\n",
      "La información de este registro 3 es importante\n",
      "La información de este registro 4 es importante\n",
      "La información de este registro 5 es importante\n",
      "La información de este registro 6 es importante\n",
      "La información de este registro 7 es importante\n",
      "A partir del registro 8 tiene los terminos y condiciones\n"
     ]
    }
   ],
   "source": [
    "cotizacion1 = dropextrainf(dropnull(cot1))"
   ]
  },
  {
   "cell_type": "code",
   "execution_count": 248,
   "metadata": {},
   "outputs": [
    {
     "data": {
      "text/html": [
       "<div>\n",
       "<style scoped>\n",
       "    .dataframe tbody tr th:only-of-type {\n",
       "        vertical-align: middle;\n",
       "    }\n",
       "\n",
       "    .dataframe tbody tr th {\n",
       "        vertical-align: top;\n",
       "    }\n",
       "\n",
       "    .dataframe thead th {\n",
       "        text-align: right;\n",
       "    }\n",
       "</style>\n",
       "<table border=\"1\" class=\"dataframe\">\n",
       "  <thead>\n",
       "    <tr style=\"text-align: right;\">\n",
       "      <th></th>\n",
       "      <th>range</th>\n",
       "      <th>majorDimension</th>\n",
       "      <th>values</th>\n",
       "    </tr>\n",
       "  </thead>\n",
       "  <tbody>\n",
       "    <tr>\n",
       "      <th>0</th>\n",
       "      <td>CARATULA!A1:H150</td>\n",
       "      <td>ROWS</td>\n",
       "      <td>['', 'PROYECTO: SERVICIO DE DESCARGA Y ARRASTR...</td>\n",
       "    </tr>\n",
       "    <tr>\n",
       "      <th>1</th>\n",
       "      <td>CARATULA!A1:H150</td>\n",
       "      <td>ROWS</td>\n",
       "      <td>['', '', '', '', '', '               FOLIO: CT...</td>\n",
       "    </tr>\n",
       "    <tr>\n",
       "      <th>2</th>\n",
       "      <td>CARATULA!A1:H150</td>\n",
       "      <td>ROWS</td>\n",
       "      <td>['', 'UBICACIÓN: PLANTA TOPRE', '', '', '', ' ...</td>\n",
       "    </tr>\n",
       "    <tr>\n",
       "      <th>3</th>\n",
       "      <td>CARATULA!A1:H150</td>\n",
       "      <td>ROWS</td>\n",
       "      <td>['', 'CONTACTO:  BENITO ZAMORA / ELECTROSERVIC...</td>\n",
       "    </tr>\n",
       "    <tr>\n",
       "      <th>4</th>\n",
       "      <td>CARATULA!A1:H150</td>\n",
       "      <td>ROWS</td>\n",
       "      <td>['', 'DOMICILIO:INFINITO #210, UNIVERSO 2000, ...</td>\n",
       "    </tr>\n",
       "    <tr>\n",
       "      <th>5</th>\n",
       "      <td>CARATULA!A1:H150</td>\n",
       "      <td>ROWS</td>\n",
       "      <td>['', 'CLAVE', 'INLCUYE', 'UNIDAD', ' CANTIDAD'...</td>\n",
       "    </tr>\n",
       "    <tr>\n",
       "      <th>6</th>\n",
       "      <td>CARATULA!A1:H150</td>\n",
       "      <td>ROWS</td>\n",
       "      <td>['', '1', 'Servicio de descarga y arrastre de ...</td>\n",
       "    </tr>\n",
       "    <tr>\n",
       "      <th>7</th>\n",
       "      <td>CARATULA!A1:H150</td>\n",
       "      <td>ROWS</td>\n",
       "      <td>['', 'COSTO TOTAL ', '', '', '', '', ' $ 74,46...</td>\n",
       "    </tr>\n",
       "  </tbody>\n",
       "</table>\n",
       "</div>"
      ],
      "text/plain": [
       "              range majorDimension  \\\n",
       "0  CARATULA!A1:H150           ROWS   \n",
       "1  CARATULA!A1:H150           ROWS   \n",
       "2  CARATULA!A1:H150           ROWS   \n",
       "3  CARATULA!A1:H150           ROWS   \n",
       "4  CARATULA!A1:H150           ROWS   \n",
       "5  CARATULA!A1:H150           ROWS   \n",
       "6  CARATULA!A1:H150           ROWS   \n",
       "7  CARATULA!A1:H150           ROWS   \n",
       "\n",
       "                                              values  \n",
       "0  ['', 'PROYECTO: SERVICIO DE DESCARGA Y ARRASTR...  \n",
       "1  ['', '', '', '', '', '               FOLIO: CT...  \n",
       "2  ['', 'UBICACIÓN: PLANTA TOPRE', '', '', '', ' ...  \n",
       "3  ['', 'CONTACTO:  BENITO ZAMORA / ELECTROSERVIC...  \n",
       "4  ['', 'DOMICILIO:INFINITO #210, UNIVERSO 2000, ...  \n",
       "5  ['', 'CLAVE', 'INLCUYE', 'UNIDAD', ' CANTIDAD'...  \n",
       "6  ['', '1', 'Servicio de descarga y arrastre de ...  \n",
       "7  ['', 'COSTO TOTAL ', '', '', '', '', ' $ 74,46...  "
      ]
     },
     "execution_count": 248,
     "metadata": {},
     "output_type": "execute_result"
    }
   ],
   "source": [
    "cotizacion1"
   ]
  }
 ],
 "metadata": {
  "kernelspec": {
   "display_name": "base",
   "language": "python",
   "name": "python3"
  },
  "language_info": {
   "codemirror_mode": {
    "name": "ipython",
    "version": 3
   },
   "file_extension": ".py",
   "mimetype": "text/x-python",
   "name": "python",
   "nbconvert_exporter": "python",
   "pygments_lexer": "ipython3",
   "version": "3.9.13"
  }
 },
 "nbformat": 4,
 "nbformat_minor": 2
}
