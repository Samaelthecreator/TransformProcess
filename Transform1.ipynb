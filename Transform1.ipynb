{
 "cells": [
  {
   "cell_type": "markdown",
   "metadata": {},
   "source": [
    "Realizaremos el primer proceso de limpieza, teniendo en cuenta los siguientes puntos:\n",
    "\n",
    "A.- Valores nulos\n",
    "\n",
    "B.- Valores duplicados\n",
    "\n",
    "C.- datos faltantes\n",
    "\n",
    "D.- datos no necesarios"
   ]
  },
  {
   "cell_type": "markdown",
   "metadata": {},
   "source": [
    "# Análisis exploratorio\n",
    "\n",
    "El análisis exploratorio nos dará información estructural de los dataframes (tamaño, orden, etc) para poder realizar el primer proceso de limpieza, en donde queden unicamente datos relevantes, para que posteriormente se haga una transformación (reducción)"
   ]
  },
  {
   "cell_type": "code",
   "execution_count": 176,
   "metadata": {},
   "outputs": [],
   "source": [
    "import pandas as pd\n",
    "#Importamos 5 cotizaciones para realizar la parte de limpieza.\n",
    "\n",
    "cot1 = pd.read_csv('C:/Users/52473/OneDrive/Documentos/SITEC/Cotizaciones (caratula)/Capa1Extract/2023/Enero/CTQ-787 ELECTROSERVICIOS (DESCARGA Y ARRASTRE DE MAQUINA).csv')\n",
    "cot2 = pd.read_csv('C:/Users/52473/OneDrive/Documentos/SITEC/Cotizaciones (caratula)/Capa1Extract/2023/Febrero/CTQ-844 BUSSMANN (SERVICIO DE SUMINISTRO DE RUEDA).csv')\n",
    "cot3 = pd.read_csv('C:/Users/52473/OneDrive/Documentos/SITEC/Cotizaciones (caratula)/Capa1Extract/2023/Julio/CTQ-952 ZF (EMBALAJE LINEA EP5).csv')\n",
    "cot4 = pd.read_csv('C:/Users/52473/OneDrive/Documentos/SITEC/Cotizaciones (caratula)/Capa1Extract/2023/Septiembre/CTQ-995 PIZZA HUT (SERVICIO DE FABRICACIÓN DE PUERTA PARA ÁREA DEL SITE).csv')\n",
    "cot5 = pd.read_csv('C:/Users/52473/OneDrive/Documentos/SITEC/Cotizaciones (caratula)/Capa1Extract/2023/Noviembre/CTQ-1042 VALEO (SUMINISTRO DE VIDRIO TEMPLADO).csv')"
   ]
  },
  {
   "cell_type": "markdown",
   "metadata": {},
   "source": [
    "Los dataframes provienen de diccionarios, es decir, las columnas: range, majorDimensio, provienen de la funcion de extracción de Google Sheets.\n",
    "\n",
    "La columna importantes es unicamente \"value\", extraeremos esa información, quitando las entradas que representan los terminos y condiciones\n",
    "\n"
   ]
  },
  {
   "cell_type": "code",
   "execution_count": 179,
   "metadata": {},
   "outputs": [
    {
     "name": "stdout",
     "output_type": "stream",
     "text": [
      "el registro 0 es nulo\n",
      "dimension interaccion 19\n",
      "dimension real: 21\n",
      "el registro 0 es nulo\n",
      "dimension interaccion 19\n",
      "dimension real: 20\n",
      "el registro 0 es nulo\n",
      "dimension interaccion 19\n",
      "dimension real: 19\n",
      "registro 0 no nulo\n",
      "dimension real: 19\n",
      "registro 1 no nulo\n",
      "dimension real: 19\n",
      "registro 2 no nulo\n",
      "dimension real: 19\n",
      "registro 3 no nulo\n",
      "dimension real: 19\n",
      "registro 4 no nulo\n",
      "dimension real: 19\n",
      "registro 5 no nulo\n",
      "dimension real: 19\n",
      "el registro 6 es nulo\n",
      "dimension interaccion 19\n",
      "dimension real: 18\n",
      "registro 6 no nulo\n",
      "dimension real: 18\n",
      "registro 7 no nulo\n",
      "dimension real: 18\n",
      "registro 8 no nulo\n",
      "dimension real: 18\n",
      "registro 9 no nulo\n",
      "dimension real: 18\n",
      "registro 10 no nulo\n",
      "dimension real: 18\n",
      "registro 11 no nulo\n",
      "dimension real: 18\n",
      "registro 12 no nulo\n",
      "dimension real: 18\n",
      "registro 13 no nulo\n",
      "dimension real: 18\n",
      "registro 14 no nulo\n",
      "dimension real: 18\n",
      "registro 15 no nulo\n",
      "dimension real: 18\n",
      "registro 16 no nulo\n",
      "dimension real: 18\n",
      "registro 17 no nulo\n",
      "dimension real: 18\n"
     ]
    }
   ],
   "source": [
    "import io\n",
    " #Elimanos espacios vacios y la informacion despues de 'Terminos y condiciones\n",
    "cotizacion1 = pd.DataFrame(cot1['values'])\n",
    "\n",
    "\n",
    "j=0\n",
    "\n",
    "while j<len(cotizacion1):\n",
    "    if '[]' in cotizacion1.iloc[j,0]:\n",
    "        print(f\"el registro {j} es nulo\")\n",
    "        cotizacion1 = cotizacion1.drop(index = cotizacion1.index[j])\n",
    "        print(f\"dimension interaccion {n}\")\n",
    "        print(f\"dimension real: {len(cotizacion1)}\")\n",
    "    else:\n",
    "        print(f\"registro {j} no nulo\")\n",
    "        print(f\"dimension real: {len(cotizacion1)}\")\n",
    "        j+=1\n",
    "        \n",
    "        "
   ]
  },
  {
   "cell_type": "code",
   "execution_count": 184,
   "metadata": {},
   "outputs": [
    {
     "name": "stdout",
     "output_type": "stream",
     "text": [
      "La información de este registro 0 es importante\n",
      "La información de este registro 1 es importante\n",
      "La información de este registro 2 es importante\n",
      "La información de este registro 3 es importante\n",
      "La información de este registro 4 es importante\n",
      "La información de este registro 5 es importante\n",
      "La información de este registro 6 es importante\n",
      "La información de este registro 7 es importante\n",
      "La información de este registro 8 es importante\n",
      "La información de este registro 9 es importante\n",
      "La información de este registro 10 es importante\n",
      "La información de este registro 11 es importante\n",
      "La información de este registro 12 es importante\n",
      "La información de este registro 13 es importante\n",
      "La información de este registro 14 es importante\n",
      "A partir del registro 15 tiene los terminos y condiciones\n"
     ]
    }
   ],
   "source": [
    "#Quitamos para la cotizacion2, toda la informacion despues de terminos y condiciones:\n",
    "cotizacion2 = cot2[['values']]\n",
    "\n",
    "n= 0\n",
    "while n< len(cotizacion2):\n",
    "    if 'TÉRMINOS' in cotizacion2.iloc[n,0]:\n",
    "        print(f\"A partir del registro {n} tiene los terminos y condiciones\")\n",
    "        cotizacion2 = cotizacion2.drop(index = cotizacion2.index[n:])\n",
    "        break\n",
    "    else:\n",
    "        print(f\"La información de este registro {n} es importante\")\n",
    "        n+=1"
   ]
  },
  {
   "cell_type": "code",
   "execution_count": null,
   "metadata": {},
   "outputs": [],
   "source": [
    "val1 = val1[~val1.iloc[:, 0].str.contains(r'^\\[\\]$', na=False)]\n",
    "\n",
    "# Resetear los índices si es necesario\n",
    "val1.reset_index(drop=True, inplace=True)\n",
    "\n",
    "print(val1)"
   ]
  },
  {
   "cell_type": "code",
   "execution_count": 192,
   "metadata": {},
   "outputs": [
    {
     "name": "stdout",
     "output_type": "stream",
     "text": [
      "Espacio vacio en el registro 0\n",
      "Espacio vacio en el registro 0\n",
      "Espacio vacio en el registro 0\n",
      "Espacio vacio en el registro 0\n",
      "El valor del registro: {i} es importante\n",
      "El valor del registro: {i} es importante\n",
      "El valor del registro: {i} es importante\n",
      "El valor del registro: {i} es importante\n",
      "El valor del registro: {i} es importante\n",
      "El valor del registro: {i} es importante\n",
      "Espacio vacio en el registro 6\n",
      "El valor del registro: {i} es importante\n",
      "El valor del registro: {i} es importante\n",
      "El valor del registro: {i} es importante\n",
      "El valor del registro: {i} es importante\n",
      "El valor del registro: {i} es importante\n",
      "El valor del registro: {i} es importante\n",
      "El valor del registro: {i} es importante\n",
      "El valor del registro: {i} es importante\n",
      "El valor del registro: {i} es importante\n",
      "El valor del registro: {i} es importante\n",
      "El valor del registro: {i} es importante\n",
      "El valor del registro: {i} es importante\n",
      "El valor del registro: {i} es importante\n",
      "El valor del registro: {i} es importante\n",
      "El valor del registro: {i} es importante\n",
      "El valor del registro: {i} es importante\n",
      "El valor del registro: {i} es importante\n",
      "El valor del registro: {i} es importante\n",
      "El valor del registro: {i} es importante\n",
      "El valor del registro: {i} es importante\n",
      "El valor del registro: {i} es importante\n",
      "El valor del registro: {i} es importante\n",
      "El valor del registro: {i} es importante\n",
      "El valor del registro: {i} es importante\n",
      "El valor del registro: {i} es importante\n",
      "El valor del registro: {i} es importante\n",
      "El valor del registro: {i} es importante\n",
      "El valor del registro: {i} es importante\n",
      "El valor del registro: {i} es importante\n",
      "El valor del registro: {i} es importante\n",
      "El valor del registro: {i} es importante\n",
      "El valor del registro: {i} es importante\n",
      "El valor del registro: {i} es importante\n",
      "El valor del registro: {i} es importante\n",
      "El valor del registro: {i} es importante\n",
      "El valor del registro: {i} es importante\n",
      "El valor del registro: {i} es importante\n",
      "El valor del registro: {i} es importante\n",
      "El valor del registro: {i} es importante\n",
      "El valor del registro: {i} es importante\n",
      "El valor del registro: {i} es importante\n",
      "El valor del registro: {i} es importante\n",
      "El valor del registro: {i} es importante\n",
      "El valor del registro: {i} es importante\n"
     ]
    }
   ],
   "source": [
    "\n",
    "cotizacion3 = cot3[['values']]\n",
    "i = 0\n",
    "\n",
    "while i<len(cotizacion3):\n",
    "    \n",
    "    if '[]' in cotizacion3.iloc[i,0]:\n",
    "        print(f\"Espacio vacio en el registro {i}\")\n",
    "        cotizacion3 = cotizacion3.drop(index = cotizacion3.index[i])\n",
    "    \n",
    "    elif cotizacion3.iloc[i,0] == 'TÉRMINOS': #TÉRMINOS' or 'TERMINOS' in cotizacion3.iloc[i,0]:\n",
    "        print(f\"A partir del registro {i} esta la información de terminos y condiciones.\")\n",
    "        cotizacion3 = cotizacion3.drop(index = cotizacion3.index[i:])\n",
    "        break\n",
    "    \n",
    "    else:\n",
    "        print(\"El valor del registro: {i} es importante\")\n",
    "        i+=1    \n",
    "        \n",
    "    "
   ]
  },
  {
   "cell_type": "code",
   "execution_count": 193,
   "metadata": {},
   "outputs": [],
   "source": [
    "cotizacion4 = pd.DataFrame(cot1['values'])\n",
    "\n",
    "\n",
    "j=0\n",
    "\n",
    "while j<len(cotizacion1):\n",
    "    if '[]' in cotizacion1.iloc[j,0]:\n",
    "        print(f\"el registro {j} es nulo\")\n",
    "        cotizacion1 = cotizacion1.drop(index = cotizacion1.index[j])\n",
    "        print(f\"dimension interaccion {n}\")\n",
    "        print(f\"dimension real: {len(cotizacion1)}\")\n",
    "    else:\n",
    "        print(f\"registro {j} no nulo\")\n",
    "        print(f\"dimension real: {len(cotizacion1)}\")\n",
    "        j+=1"
   ]
  }
 ],
 "metadata": {
  "kernelspec": {
   "display_name": "base",
   "language": "python",
   "name": "python3"
  },
  "language_info": {
   "codemirror_mode": {
    "name": "ipython",
    "version": 3
   },
   "file_extension": ".py",
   "mimetype": "text/x-python",
   "name": "python",
   "nbconvert_exporter": "python",
   "pygments_lexer": "ipython3",
   "version": "3.9.13"
  }
 },
 "nbformat": 4,
 "nbformat_minor": 2
}
